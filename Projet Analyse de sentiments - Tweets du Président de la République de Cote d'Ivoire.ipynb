{
 "cells": [
  {
   "cell_type": "markdown",
   "metadata": {},
   "source": [
    "# Projet Analyse de sentiments - Tweets du Président de la République de \n",
    "# de la Côte d'Ivoire - Par Romuald KOUADIO (Data Analyst - AI Developer)"
   ]
  },
  {
   "cell_type": "markdown",
   "metadata": {},
   "source": [
    "Lien github du projet: https://github.com/RomualdKouadio/Projet-Analyse-de-sentiments"
   ]
  },
  {
   "cell_type": "code",
   "execution_count": 1,
   "metadata": {},
   "outputs": [
    {
     "name": "stdout",
     "output_type": "stream",
     "text": [
      "Requirement already satisfied: textblob in c:\\users\\romual\\anaconda3\\anaconda_3\\lib\\site-packages (0.17.1)\n",
      "Requirement already satisfied: nltk>=3.1; python_version >= \"3\" in c:\\users\\romual\\anaconda3\\anaconda_3\\lib\\site-packages (from textblob) (3.5)\n",
      "Requirement already satisfied: click in c:\\users\\romual\\anaconda3\\anaconda_3\\lib\\site-packages (from nltk>=3.1; python_version >= \"3\"->textblob) (8.1.2)\n",
      "Requirement already satisfied: joblib in c:\\users\\romual\\anaconda3\\anaconda_3\\lib\\site-packages (from nltk>=3.1; python_version >= \"3\"->textblob) (0.17.0)\n",
      "Requirement already satisfied: regex in c:\\users\\romual\\anaconda3\\anaconda_3\\lib\\site-packages (from nltk>=3.1; python_version >= \"3\"->textblob) (2020.10.15)\n",
      "Requirement already satisfied: tqdm in c:\\users\\romual\\anaconda3\\anaconda_3\\lib\\site-packages (from nltk>=3.1; python_version >= \"3\"->textblob) (4.50.2)\n",
      "Requirement already satisfied: colorama; platform_system == \"Windows\" in c:\\users\\romual\\anaconda3\\anaconda_3\\lib\\site-packages (from click->nltk>=3.1; python_version >= \"3\"->textblob) (0.4.4)\n"
     ]
    }
   ],
   "source": [
    "!pip install textblob"
   ]
  },
  {
   "cell_type": "code",
   "execution_count": 2,
   "metadata": {},
   "outputs": [
    {
     "name": "stdout",
     "output_type": "stream",
     "text": [
      "Requirement already satisfied: tweepy in c:\\users\\romual\\anaconda3\\anaconda_3\\lib\\site-packages (4.8.0)\n",
      "Requirement already satisfied: requests-oauthlib<2,>=1.2.0 in c:\\users\\romual\\anaconda3\\anaconda_3\\lib\\site-packages (from tweepy) (1.3.1)\n",
      "Requirement already satisfied: oauthlib<4,>=3.2.0 in c:\\users\\romual\\anaconda3\\anaconda_3\\lib\\site-packages (from tweepy) (3.2.0)\n",
      "Requirement already satisfied: requests<3,>=2.27.0 in c:\\users\\romual\\anaconda3\\anaconda_3\\lib\\site-packages (from tweepy) (2.27.1)\n",
      "Requirement already satisfied: certifi>=2017.4.17 in c:\\users\\romual\\anaconda3\\anaconda_3\\lib\\site-packages (from requests<3,>=2.27.0->tweepy) (2020.6.20)\n",
      "Requirement already satisfied: idna<4,>=2.5; python_version >= \"3\" in c:\\users\\romual\\anaconda3\\anaconda_3\\lib\\site-packages (from requests<3,>=2.27.0->tweepy) (2.10)\n",
      "Requirement already satisfied: charset-normalizer~=2.0.0; python_version >= \"3\" in c:\\users\\romual\\anaconda3\\anaconda_3\\lib\\site-packages (from requests<3,>=2.27.0->tweepy) (2.0.12)\n",
      "Requirement already satisfied: urllib3<1.27,>=1.21.1 in c:\\users\\romual\\anaconda3\\anaconda_3\\lib\\site-packages (from requests<3,>=2.27.0->tweepy) (1.25.11)\n"
     ]
    }
   ],
   "source": [
    "!pip install tweepy"
   ]
  },
  {
   "cell_type": "code",
   "execution_count": 3,
   "metadata": {},
   "outputs": [
    {
     "name": "stdout",
     "output_type": "stream",
     "text": [
      "Requirement already satisfied: wordcloud in c:\\users\\romual\\anaconda3\\anaconda_3\\lib\\site-packages (1.8.1)\n",
      "Requirement already satisfied: matplotlib in c:\\users\\romual\\anaconda3\\anaconda_3\\lib\\site-packages (from wordcloud) (3.3.2)\n",
      "Requirement already satisfied: numpy>=1.6.1 in c:\\users\\romual\\anaconda3\\anaconda_3\\lib\\site-packages (from wordcloud) (1.19.2)\n",
      "Requirement already satisfied: pillow in c:\\users\\romual\\anaconda3\\anaconda_3\\lib\\site-packages (from wordcloud) (8.0.1)\n",
      "Requirement already satisfied: python-dateutil>=2.1 in c:\\users\\romual\\anaconda3\\anaconda_3\\lib\\site-packages (from matplotlib->wordcloud) (2.8.1)\n",
      "Requirement already satisfied: kiwisolver>=1.0.1 in c:\\users\\romual\\anaconda3\\anaconda_3\\lib\\site-packages (from matplotlib->wordcloud) (1.3.0)\n",
      "Requirement already satisfied: cycler>=0.10 in c:\\users\\romual\\anaconda3\\anaconda_3\\lib\\site-packages (from matplotlib->wordcloud) (0.10.0)\n",
      "Requirement already satisfied: pyparsing!=2.0.4,!=2.1.2,!=2.1.6,>=2.0.3 in c:\\users\\romual\\anaconda3\\anaconda_3\\lib\\site-packages (from matplotlib->wordcloud) (2.4.7)\n",
      "Requirement already satisfied: certifi>=2020.06.20 in c:\\users\\romual\\anaconda3\\anaconda_3\\lib\\site-packages (from matplotlib->wordcloud) (2020.6.20)\n",
      "Requirement already satisfied: six>=1.5 in c:\\users\\romual\\anaconda3\\anaconda_3\\lib\\site-packages (from python-dateutil>=2.1->matplotlib->wordcloud) (1.15.0)\n"
     ]
    }
   ],
   "source": [
    "!pip install wordcloud"
   ]
  },
  {
   "cell_type": "code",
   "execution_count": 4,
   "metadata": {},
   "outputs": [
    {
     "name": "stdout",
     "output_type": "stream",
     "text": [
      "Requirement already satisfied: textblob-fr in c:\\users\\romual\\anaconda3\\anaconda_3\\lib\\site-packages (0.2.0)\n",
      "Requirement already satisfied: textblob>=0.8.0 in c:\\users\\romual\\anaconda3\\anaconda_3\\lib\\site-packages (from textblob-fr) (0.17.1)\n",
      "Requirement already satisfied: nltk>=3.1; python_version >= \"3\" in c:\\users\\romual\\anaconda3\\anaconda_3\\lib\\site-packages (from textblob>=0.8.0->textblob-fr) (3.5)\n",
      "Requirement already satisfied: click in c:\\users\\romual\\anaconda3\\anaconda_3\\lib\\site-packages (from nltk>=3.1; python_version >= \"3\"->textblob>=0.8.0->textblob-fr) (8.1.2)\n",
      "Requirement already satisfied: regex in c:\\users\\romual\\anaconda3\\anaconda_3\\lib\\site-packages (from nltk>=3.1; python_version >= \"3\"->textblob>=0.8.0->textblob-fr) (2020.10.15)\n",
      "Requirement already satisfied: joblib in c:\\users\\romual\\anaconda3\\anaconda_3\\lib\\site-packages (from nltk>=3.1; python_version >= \"3\"->textblob>=0.8.0->textblob-fr) (0.17.0)\n",
      "Requirement already satisfied: tqdm in c:\\users\\romual\\anaconda3\\anaconda_3\\lib\\site-packages (from nltk>=3.1; python_version >= \"3\"->textblob>=0.8.0->textblob-fr) (4.50.2)\n",
      "Requirement already satisfied: colorama; platform_system == \"Windows\" in c:\\users\\romual\\anaconda3\\anaconda_3\\lib\\site-packages (from click->nltk>=3.1; python_version >= \"3\"->textblob>=0.8.0->textblob-fr) (0.4.4)\n"
     ]
    }
   ],
   "source": [
    "!pip install textblob-fr"
   ]
  },
  {
   "cell_type": "code",
   "execution_count": 5,
   "metadata": {},
   "outputs": [],
   "source": [
    "# Importer les librairies \n",
    "import tweepy \n",
    "from textblob import TextBlob\n",
    "from textblob_fr import PatternTagger, PatternAnalyzer\n",
    "from wordcloud import WordCloud\n",
    "import pandas as pd\n",
    "import numpy as np\n",
    "import re\n",
    "import matplotlib.pyplot as plt\n",
    "plt.style.use('fivethirtyeight')"
   ]
  },
  {
   "cell_type": "code",
   "execution_count": 6,
   "metadata": {},
   "outputs": [],
   "source": [
    "# Charger les données d'authentification Client de l'API Twitter depuis un fichier excel \n",
    "log = pd.read_excel(\"C:/Users/Romual/Desktop/Login.xlsx\")"
   ]
  },
  {
   "cell_type": "code",
   "execution_count": 7,
   "metadata": {},
   "outputs": [
    {
     "data": {
      "text/plain": [
       "Index(['key1', 'key2', 'key3', 'key4'], dtype='object')"
      ]
     },
     "execution_count": 7,
     "metadata": {},
     "output_type": "execute_result"
    }
   ],
   "source": [
    "log.columns"
   ]
  },
  {
   "cell_type": "code",
   "execution_count": 8,
   "metadata": {},
   "outputs": [],
   "source": [
    "# Twitter API Credentials\n",
    "consumerKey = log.iloc[0,0]\n",
    "consumerSecret = log.iloc[0,1]\n",
    "accessToken = log.iloc[0,2]\n",
    "accessTokenSecret = log.iloc[0,3]"
   ]
  },
  {
   "cell_type": "code",
   "execution_count": 9,
   "metadata": {},
   "outputs": [],
   "source": [
    "# Créer l'objet d'authentification\n",
    "auth = tweepy.OAuthHandler(consumerKey, consumerSecret)\n",
    "\n",
    "# Parametrer le access token et le access token secret\n",
    "auth.set_access_token(accessToken, accessTokenSecret)\n",
    "\n",
    "# Créer l'objet API en transmettant les informations d'authentification\n",
    "api = tweepy.API(auth, wait_on_rate_limit= True)"
   ]
  },
  {
   "cell_type": "code",
   "execution_count": 10,
   "metadata": {},
   "outputs": [
    {
     "name": "stdout",
     "output_type": "stream",
     "text": [
      "Afficher les 5 tweets récents: \n",
      "\n",
      "1) Cérémonie d’ouverture du Sommet des Chefs d’Etat et de Gouvernement #COP15 sur la lutte contre la désertification ce lundi 09 mai 2022 au Sofitel Hôtel Ivoire à Abidjan. https://t.co/Atfr0vQwtF\n",
      "\n",
      "2) Face aux défis de la #désertification, nous devons agir vite. Je me réjouis de la mobilisation  pour le lancement de la #COP15 ainsi que le soutien à « l’Initiative d’Abidjan », qui vise à restaurer nos  écosystèmes forestiers dégradés et à promouvoir la gestion durable des sols. https://t.co/CiDPUaNmt7\n",
      "\n",
      "3) A travers notre nouvelle Politique forestière, nous faisons la promotion de l’#agroforesterie et faisons appel au secteur privé pour la reconstitution de notre couvert forestier. #COP15Abidan https://t.co/FtAs2OCq5Q\n",
      "\n",
      "4) Je porte personnellement «l’initiative d’Abidjan », avec l’espoir qu’elle inspirera d'autres pays, en #Afrique et dans le reste du monde. #COP15Abidjan. https://t.co/VyNJakI40V\n",
      "\n",
      "5) L’impact des phénomènes climatiques sur les terres se pose avec acuité en Côte d’Ivoire. #COP15Abidjan https://t.co/gALHOs13W9\n",
      "\n"
     ]
    }
   ],
   "source": [
    "# Extraire 100 tweets de l'utilisateur Twitter\n",
    "posts = api.user_timeline(screen_name= \"AOuattara_PRCI\", count= 100, tweet_mode=\"extended\")\n",
    "\n",
    "# Afficher les 5 derniers tweets du compte du PR Alassane Ouattara \n",
    "print(\"Afficher les 5 tweets récents: \\n\")\n",
    "i=1\n",
    "for tweet in posts[0:5]:\n",
    "    print(str(i) + \") \"+ tweet.full_text + \"\\n\")\n",
    "    i= i+1"
   ]
  },
  {
   "cell_type": "code",
   "execution_count": 11,
   "metadata": {},
   "outputs": [
    {
     "data": {
      "text/html": [
       "<div>\n",
       "<style scoped>\n",
       "    .dataframe tbody tr th:only-of-type {\n",
       "        vertical-align: middle;\n",
       "    }\n",
       "\n",
       "    .dataframe tbody tr th {\n",
       "        vertical-align: top;\n",
       "    }\n",
       "\n",
       "    .dataframe thead th {\n",
       "        text-align: right;\n",
       "    }\n",
       "</style>\n",
       "<table border=\"1\" class=\"dataframe\">\n",
       "  <thead>\n",
       "    <tr style=\"text-align: right;\">\n",
       "      <th></th>\n",
       "      <th>Tweets</th>\n",
       "    </tr>\n",
       "  </thead>\n",
       "  <tbody>\n",
       "    <tr>\n",
       "      <th>0</th>\n",
       "      <td>Cérémonie d’ouverture du Sommet des Chefs d’Et...</td>\n",
       "    </tr>\n",
       "    <tr>\n",
       "      <th>1</th>\n",
       "      <td>Face aux défis de la #désertification, nous de...</td>\n",
       "    </tr>\n",
       "    <tr>\n",
       "      <th>2</th>\n",
       "      <td>A travers notre nouvelle Politique forestière,...</td>\n",
       "    </tr>\n",
       "    <tr>\n",
       "      <th>3</th>\n",
       "      <td>Je porte personnellement «l’initiative d’Abidj...</td>\n",
       "    </tr>\n",
       "    <tr>\n",
       "      <th>4</th>\n",
       "      <td>L’impact des phénomènes climatiques sur les te...</td>\n",
       "    </tr>\n",
       "  </tbody>\n",
       "</table>\n",
       "</div>"
      ],
      "text/plain": [
       "                                              Tweets\n",
       "0  Cérémonie d’ouverture du Sommet des Chefs d’Et...\n",
       "1  Face aux défis de la #désertification, nous de...\n",
       "2  A travers notre nouvelle Politique forestière,...\n",
       "3  Je porte personnellement «l’initiative d’Abidj...\n",
       "4  L’impact des phénomènes climatiques sur les te..."
      ]
     },
     "execution_count": 11,
     "metadata": {},
     "output_type": "execute_result"
    }
   ],
   "source": [
    "# Créer un dataframe avec une colonne appelée Tweets dans lequel nous allons ajouter nos tweets\n",
    "df = pd.DataFrame([tweet.full_text for tweet in posts], columns=['Tweets'])\n",
    "\n",
    "# Afficher les 5 premières lignes de données\n",
    "df.head()"
   ]
  },
  {
   "cell_type": "code",
   "execution_count": 12,
   "metadata": {},
   "outputs": [
    {
     "data": {
      "text/html": [
       "<div>\n",
       "<style scoped>\n",
       "    .dataframe tbody tr th:only-of-type {\n",
       "        vertical-align: middle;\n",
       "    }\n",
       "\n",
       "    .dataframe tbody tr th {\n",
       "        vertical-align: top;\n",
       "    }\n",
       "\n",
       "    .dataframe thead th {\n",
       "        text-align: right;\n",
       "    }\n",
       "</style>\n",
       "<table border=\"1\" class=\"dataframe\">\n",
       "  <thead>\n",
       "    <tr style=\"text-align: right;\">\n",
       "      <th></th>\n",
       "      <th>Tweets</th>\n",
       "    </tr>\n",
       "  </thead>\n",
       "  <tbody>\n",
       "    <tr>\n",
       "      <th>0</th>\n",
       "      <td>Cérémonie d’ouverture du Sommet des Chefs d’Et...</td>\n",
       "    </tr>\n",
       "    <tr>\n",
       "      <th>1</th>\n",
       "      <td>Face aux défis de la désertification, nous dev...</td>\n",
       "    </tr>\n",
       "    <tr>\n",
       "      <th>2</th>\n",
       "      <td>A travers notre nouvelle Politique forestière,...</td>\n",
       "    </tr>\n",
       "    <tr>\n",
       "      <th>3</th>\n",
       "      <td>Je porte personnellement «l’initiative d’Abidj...</td>\n",
       "    </tr>\n",
       "    <tr>\n",
       "      <th>4</th>\n",
       "      <td>L’impact des phénomènes climatiques sur les te...</td>\n",
       "    </tr>\n",
       "    <tr>\n",
       "      <th>...</th>\n",
       "      <td>...</td>\n",
       "    </tr>\n",
       "    <tr>\n",
       "      <th>95</th>\n",
       "      <td>Retour à Abidjan, ce mardi 22 février 2022, ap...</td>\n",
       "    </tr>\n",
       "    <tr>\n",
       "      <th>96</th>\n",
       "      <td>De retour à Abidjan après une mission à Accra,...</td>\n",
       "    </tr>\n",
       "    <tr>\n",
       "      <th>97</th>\n",
       "      <td>Lors de nos échanges avec la Pdte du Parlement...</td>\n",
       "    </tr>\n",
       "    <tr>\n",
       "      <th>98</th>\n",
       "      <td>Dans le cadre du SommetUEUA, j’ai participé à ...</td>\n",
       "    </tr>\n",
       "    <tr>\n",
       "      <th>99</th>\n",
       "      <td>Entretien avec Werner Hoyer, Président de la B...</td>\n",
       "    </tr>\n",
       "  </tbody>\n",
       "</table>\n",
       "<p>100 rows × 1 columns</p>\n",
       "</div>"
      ],
      "text/plain": [
       "                                               Tweets\n",
       "0   Cérémonie d’ouverture du Sommet des Chefs d’Et...\n",
       "1   Face aux défis de la désertification, nous dev...\n",
       "2   A travers notre nouvelle Politique forestière,...\n",
       "3   Je porte personnellement «l’initiative d’Abidj...\n",
       "4   L’impact des phénomènes climatiques sur les te...\n",
       "..                                                ...\n",
       "95  Retour à Abidjan, ce mardi 22 février 2022, ap...\n",
       "96  De retour à Abidjan après une mission à Accra,...\n",
       "97  Lors de nos échanges avec la Pdte du Parlement...\n",
       "98  Dans le cadre du SommetUEUA, j’ai participé à ...\n",
       "99  Entretien avec Werner Hoyer, Président de la B...\n",
       "\n",
       "[100 rows x 1 columns]"
      ]
     },
     "execution_count": 12,
     "metadata": {},
     "output_type": "execute_result"
    }
   ],
   "source": [
    "# Nettoyer le texte pour le préparer à l'analyse de sentiment\n",
    "\n",
    "# Créer une fonction pour nettoyer les tweets\n",
    "def NettoyerTxt(texte):\n",
    "    texte = re.sub(r'@[A-Za-z0-9]+', '', texte) # Supprimer les @mentions\n",
    "    texte = re.sub(r'#', '', texte) # Supprimer les symboles '#'\n",
    "    texte = re.sub(r'RT[\\s]+', '', texte) # Supprimer RT\n",
    "    texte = re.sub(r'https?:\\/\\/\\S+', '', texte) # Supprimer les liens hyper textes\n",
    "    \n",
    "    return texte\n",
    "\n",
    "# Nettoyage du texte\n",
    "df['Tweets'] = df['Tweets'].apply(NettoyerTxt)\n",
    "\n",
    "# Afficher le texte nettoyé\n",
    "df"
   ]
  },
  {
   "cell_type": "code",
   "execution_count": 13,
   "metadata": {},
   "outputs": [],
   "source": [
    "# Enregistrer notre jeu de données \n",
    "df.to_csv('Tweets_Ado.csv')"
   ]
  },
  {
   "cell_type": "code",
   "execution_count": 14,
   "metadata": {},
   "outputs": [
    {
     "data": {
      "text/html": [
       "<div>\n",
       "<style scoped>\n",
       "    .dataframe tbody tr th:only-of-type {\n",
       "        vertical-align: middle;\n",
       "    }\n",
       "\n",
       "    .dataframe tbody tr th {\n",
       "        vertical-align: top;\n",
       "    }\n",
       "\n",
       "    .dataframe thead th {\n",
       "        text-align: right;\n",
       "    }\n",
       "</style>\n",
       "<table border=\"1\" class=\"dataframe\">\n",
       "  <thead>\n",
       "    <tr style=\"text-align: right;\">\n",
       "      <th></th>\n",
       "      <th>Tweets</th>\n",
       "      <th>Subjectivity</th>\n",
       "      <th>Polarity</th>\n",
       "    </tr>\n",
       "  </thead>\n",
       "  <tbody>\n",
       "    <tr>\n",
       "      <th>0</th>\n",
       "      <td>Cérémonie d’ouverture du Sommet des Chefs d’Et...</td>\n",
       "      <td>0.000000</td>\n",
       "      <td>0.000000</td>\n",
       "    </tr>\n",
       "    <tr>\n",
       "      <th>1</th>\n",
       "      <td>Face aux défis de la désertification, nous dev...</td>\n",
       "      <td>0.000000</td>\n",
       "      <td>0.000000</td>\n",
       "    </tr>\n",
       "    <tr>\n",
       "      <th>2</th>\n",
       "      <td>A travers notre nouvelle Politique forestière,...</td>\n",
       "      <td>0.216667</td>\n",
       "      <td>0.033333</td>\n",
       "    </tr>\n",
       "    <tr>\n",
       "      <th>3</th>\n",
       "      <td>Je porte personnellement «l’initiative d’Abidj...</td>\n",
       "      <td>0.000000</td>\n",
       "      <td>-0.100000</td>\n",
       "    </tr>\n",
       "    <tr>\n",
       "      <th>4</th>\n",
       "      <td>L’impact des phénomènes climatiques sur les te...</td>\n",
       "      <td>0.000000</td>\n",
       "      <td>0.000000</td>\n",
       "    </tr>\n",
       "    <tr>\n",
       "      <th>...</th>\n",
       "      <td>...</td>\n",
       "      <td>...</td>\n",
       "      <td>...</td>\n",
       "    </tr>\n",
       "    <tr>\n",
       "      <th>95</th>\n",
       "      <td>Retour à Abidjan, ce mardi 22 février 2022, ap...</td>\n",
       "      <td>0.000000</td>\n",
       "      <td>0.000000</td>\n",
       "    </tr>\n",
       "    <tr>\n",
       "      <th>96</th>\n",
       "      <td>De retour à Abidjan après une mission à Accra,...</td>\n",
       "      <td>1.000000</td>\n",
       "      <td>1.000000</td>\n",
       "    </tr>\n",
       "    <tr>\n",
       "      <th>97</th>\n",
       "      <td>Lors de nos échanges avec la Pdte du Parlement...</td>\n",
       "      <td>0.000000</td>\n",
       "      <td>0.000000</td>\n",
       "    </tr>\n",
       "    <tr>\n",
       "      <th>98</th>\n",
       "      <td>Dans le cadre du SommetUEUA, j’ai participé à ...</td>\n",
       "      <td>0.150000</td>\n",
       "      <td>-0.135000</td>\n",
       "    </tr>\n",
       "    <tr>\n",
       "      <th>99</th>\n",
       "      <td>Entretien avec Werner Hoyer, Président de la B...</td>\n",
       "      <td>0.000000</td>\n",
       "      <td>0.000000</td>\n",
       "    </tr>\n",
       "  </tbody>\n",
       "</table>\n",
       "<p>100 rows × 3 columns</p>\n",
       "</div>"
      ],
      "text/plain": [
       "                                               Tweets  Subjectivity  Polarity\n",
       "0   Cérémonie d’ouverture du Sommet des Chefs d’Et...      0.000000  0.000000\n",
       "1   Face aux défis de la désertification, nous dev...      0.000000  0.000000\n",
       "2   A travers notre nouvelle Politique forestière,...      0.216667  0.033333\n",
       "3   Je porte personnellement «l’initiative d’Abidj...      0.000000 -0.100000\n",
       "4   L’impact des phénomènes climatiques sur les te...      0.000000  0.000000\n",
       "..                                                ...           ...       ...\n",
       "95  Retour à Abidjan, ce mardi 22 février 2022, ap...      0.000000  0.000000\n",
       "96  De retour à Abidjan après une mission à Accra,...      1.000000  1.000000\n",
       "97  Lors de nos échanges avec la Pdte du Parlement...      0.000000  0.000000\n",
       "98  Dans le cadre du SommetUEUA, j’ai participé à ...      0.150000 -0.135000\n",
       "99  Entretien avec Werner Hoyer, Président de la B...      0.000000  0.000000\n",
       "\n",
       "[100 rows x 3 columns]"
      ]
     },
     "execution_count": 14,
     "metadata": {},
     "output_type": "execute_result"
    }
   ],
   "source": [
    "# Créer une fonction pour obtenir la subjectivité\n",
    "def getSubjectivity(texte):\n",
    "    return TextBlob(texte,pos_tagger=PatternTagger(),analyzer=PatternAnalyzer()).sentiment[1]\n",
    "\n",
    "# Créer une fonction pour obtenir la polarité\n",
    "def getPolarity(texte):\n",
    "    return TextBlob(texte,pos_tagger=PatternTagger(),analyzer=PatternAnalyzer()).sentiment[0]\n",
    "\n",
    "# Créer deux nouvelles colonnes\n",
    "df['Subjectivity'] = df['Tweets'].apply(getSubjectivity)\n",
    "df['Polarity'] = df['Tweets'].apply(getPolarity)\n",
    "\n",
    "# Afficher le nouveau dataframe avec les nouvelles colonnes ajoutées \n",
    "df"
   ]
  },
  {
   "cell_type": "code",
   "execution_count": 15,
   "metadata": {},
   "outputs": [
    {
     "data": {
      "image/png": "[encoded data removed]",
      "text/plain": [
       "<Figure size 432x288 with 1 Axes>"
      ]
     },
     "metadata": {},
     "output_type": "display_data"
    },
    {
     "data": {
      "text/plain": [
       "<Figure size 432x288 with 0 Axes>"
      ]
     },
     "metadata": {},
     "output_type": "display_data"
    }
   ],
   "source": [
    "# Tracer le nuage de mots 'word cloud'\n",
    "allWords = ' '.join( [twts for twts in df['Tweets']] )\n",
    "wordCloud = WordCloud(width = 500, height = 300, random_state = 21, max_font_size = 119).generate(allWords)\n",
    "\n",
    "plt.imshow(wordCloud, interpolation = \"bilinear\")\n",
    "plt.axis('off')\n",
    "plt.show()\n",
    "plt.savefig(fname='nuage_de_mots')"
   ]
  },
  {
   "cell_type": "code",
   "execution_count": 16,
   "metadata": {},
   "outputs": [
    {
     "data": {
      "text/html": [
       "<div>\n",
       "<style scoped>\n",
       "    .dataframe tbody tr th:only-of-type {\n",
       "        vertical-align: middle;\n",
       "    }\n",
       "\n",
       "    .dataframe tbody tr th {\n",
       "        vertical-align: top;\n",
       "    }\n",
       "\n",
       "    .dataframe thead th {\n",
       "        text-align: right;\n",
       "    }\n",
       "</style>\n",
       "<table border=\"1\" class=\"dataframe\">\n",
       "  <thead>\n",
       "    <tr style=\"text-align: right;\">\n",
       "      <th></th>\n",
       "      <th>Tweets</th>\n",
       "      <th>Subjectivity</th>\n",
       "      <th>Polarity</th>\n",
       "      <th>Analysis</th>\n",
       "    </tr>\n",
       "  </thead>\n",
       "  <tbody>\n",
       "    <tr>\n",
       "      <th>0</th>\n",
       "      <td>Cérémonie d’ouverture du Sommet des Chefs d’Et...</td>\n",
       "      <td>0.000000</td>\n",
       "      <td>0.000000</td>\n",
       "      <td>Neutre</td>\n",
       "    </tr>\n",
       "    <tr>\n",
       "      <th>1</th>\n",
       "      <td>Face aux défis de la désertification, nous dev...</td>\n",
       "      <td>0.000000</td>\n",
       "      <td>0.000000</td>\n",
       "      <td>Neutre</td>\n",
       "    </tr>\n",
       "    <tr>\n",
       "      <th>2</th>\n",
       "      <td>A travers notre nouvelle Politique forestière,...</td>\n",
       "      <td>0.216667</td>\n",
       "      <td>0.033333</td>\n",
       "      <td>Positif</td>\n",
       "    </tr>\n",
       "    <tr>\n",
       "      <th>3</th>\n",
       "      <td>Je porte personnellement «l’initiative d’Abidj...</td>\n",
       "      <td>0.000000</td>\n",
       "      <td>-0.100000</td>\n",
       "      <td>Negatif</td>\n",
       "    </tr>\n",
       "    <tr>\n",
       "      <th>4</th>\n",
       "      <td>L’impact des phénomènes climatiques sur les te...</td>\n",
       "      <td>0.000000</td>\n",
       "      <td>0.000000</td>\n",
       "      <td>Neutre</td>\n",
       "    </tr>\n",
       "    <tr>\n",
       "      <th>...</th>\n",
       "      <td>...</td>\n",
       "      <td>...</td>\n",
       "      <td>...</td>\n",
       "      <td>...</td>\n",
       "    </tr>\n",
       "    <tr>\n",
       "      <th>95</th>\n",
       "      <td>Retour à Abidjan, ce mardi 22 février 2022, ap...</td>\n",
       "      <td>0.000000</td>\n",
       "      <td>0.000000</td>\n",
       "      <td>Neutre</td>\n",
       "    </tr>\n",
       "    <tr>\n",
       "      <th>96</th>\n",
       "      <td>De retour à Abidjan après une mission à Accra,...</td>\n",
       "      <td>1.000000</td>\n",
       "      <td>1.000000</td>\n",
       "      <td>Positif</td>\n",
       "    </tr>\n",
       "    <tr>\n",
       "      <th>97</th>\n",
       "      <td>Lors de nos échanges avec la Pdte du Parlement...</td>\n",
       "      <td>0.000000</td>\n",
       "      <td>0.000000</td>\n",
       "      <td>Neutre</td>\n",
       "    </tr>\n",
       "    <tr>\n",
       "      <th>98</th>\n",
       "      <td>Dans le cadre du SommetUEUA, j’ai participé à ...</td>\n",
       "      <td>0.150000</td>\n",
       "      <td>-0.135000</td>\n",
       "      <td>Negatif</td>\n",
       "    </tr>\n",
       "    <tr>\n",
       "      <th>99</th>\n",
       "      <td>Entretien avec Werner Hoyer, Président de la B...</td>\n",
       "      <td>0.000000</td>\n",
       "      <td>0.000000</td>\n",
       "      <td>Neutre</td>\n",
       "    </tr>\n",
       "  </tbody>\n",
       "</table>\n",
       "<p>100 rows × 4 columns</p>\n",
       "</div>"
      ],
      "text/plain": [
       "                                               Tweets  Subjectivity  Polarity  \\\n",
       "0   Cérémonie d’ouverture du Sommet des Chefs d’Et...      0.000000  0.000000   \n",
       "1   Face aux défis de la désertification, nous dev...      0.000000  0.000000   \n",
       "2   A travers notre nouvelle Politique forestière,...      0.216667  0.033333   \n",
       "3   Je porte personnellement «l’initiative d’Abidj...      0.000000 -0.100000   \n",
       "4   L’impact des phénomènes climatiques sur les te...      0.000000  0.000000   \n",
       "..                                                ...           ...       ...   \n",
       "95  Retour à Abidjan, ce mardi 22 février 2022, ap...      0.000000  0.000000   \n",
       "96  De retour à Abidjan après une mission à Accra,...      1.000000  1.000000   \n",
       "97  Lors de nos échanges avec la Pdte du Parlement...      0.000000  0.000000   \n",
       "98  Dans le cadre du SommetUEUA, j’ai participé à ...      0.150000 -0.135000   \n",
       "99  Entretien avec Werner Hoyer, Président de la B...      0.000000  0.000000   \n",
       "\n",
       "   Analysis  \n",
       "0    Neutre  \n",
       "1    Neutre  \n",
       "2   Positif  \n",
       "3   Negatif  \n",
       "4    Neutre  \n",
       "..      ...  \n",
       "95   Neutre  \n",
       "96  Positif  \n",
       "97   Neutre  \n",
       "98  Negatif  \n",
       "99   Neutre  \n",
       "\n",
       "[100 rows x 4 columns]"
      ]
     },
     "execution_count": 16,
     "metadata": {},
     "output_type": "execute_result"
    }
   ],
   "source": [
    "# Créer une fonction pour calculer l'analyse négative, neutre et positive\n",
    "def getAnalysis(score):\n",
    "    if score < 0:\n",
    "        return 'Negatif'\n",
    "    elif score == 0:\n",
    "        return 'Neutre'\n",
    "    else:\n",
    "        return 'Positif'\n",
    "\n",
    "df['Analysis'] = df['Polarity'].apply(getAnalysis)\n",
    "\n",
    "# Afficher le dataframe\n",
    "df"
   ]
  },
  {
   "cell_type": "code",
   "execution_count": 17,
   "metadata": {},
   "outputs": [
    {
     "name": "stdout",
     "output_type": "stream",
     "text": [
      "1) A travers notre nouvelle Politique forestière, nous faisons la promotion de l’agroforesterie et faisons appel au secteur privé pour la reconstitution de notre couvert forestier. COP15Abidan \n",
      "\n",
      "2) Agissons vite, agissons ensemble pour donner une nouvelle vie à nos terres ! COP15Abidjan \n",
      "\n",
      "3) La Cote d’Ivoire est fière d’accueillir la COP15 contre la désertification du 9 mai au 20 mai à Abidjan. \n",
      "\n",
      "Avec les leaders du monde entier et de l’, nous prendrons des engagements forts  pour préserver &amp; restaurer nos terres.\n",
      "\n",
      "Ensemble à AbidjanCOP15 ! \n",
      "\n",
      "4) La Côte d’Ivoire perd un valeureux fils, un homme de conviction et de devoir. Je perds un fidèle compagnon, un ami loyal et dévoué. \n",
      "\n",
      "En cette douloureuse circonstance, je présente mes  condoléances les plus émues à sa famille et à ses proches. \n",
      "\n",
      "Que son âme repose en paix.\n",
      "\n",
      "5) Mes chers compatriotes, \n",
      "J’ai la profonde douleur de vous annoncer le décès, ce samedi 7 mai 2022, du Président de l’Assemblée Nationale, mon jeune frère, Amadou Soumahoro. Je rends hommage à un grand homme d'Etat, dont l’engagement et le parcours politique ont marqué notre pays. \n",
      "\n",
      "6) Échanges très chaleureux et fructueux, ce vendredi, avec le Cardinal Pietro Parolin, Secrétaire d'Etat du Pape François.\n",
      "\n",
      "La CôtedIvoire et le Vatican sont animés par la même volonté de renforcer leurs liens et de bâtir un monde en paix et plus équitable. \n",
      "\n",
      "7) Prière de la fin du Ramadan (Aïd el-Fitr) à la Grande Mosquée de la Riviera Golf. \n",
      "\n",
      "8) Ce lundi, j’ai pris part à la prière de l’Aïd el-Fitr. \n",
      "\n",
      "Je souhaite une excellente fête de Ramadan à tous nos frères et sœurs musulmans, dans la paix, la solidarité et le bonheur.\n",
      "\n",
      "Que Dieu bénisse notre beau Pays ! \n",
      "\n",
      "9) A l’occasion de la célébration de l’Aïd El Fitr, marquant la fin du jeûne du mois de Ramadan, je souhaite une très bonne fête à toute la communauté musulmane. \n",
      "\n",
      "10) Je félicite les travailleuses et les travailleurs du monde paysan, de la fonction publique et du secteur privé dont les efforts et l’abnégation au travail ont permis à notre pays de réaliser des performances économiques et sociales remarquables au cours des 10 dernières années ! \n",
      "\n",
      "11) Heureux de regagner Abidjan, ce vendredi, après un séjour en ArabieSaoudite. \n",
      "\n",
      "12) : Le taux de couverture électrique en Côte d’Ivoire est passé de 33% en 2011, à plus de 80% en 2020, grâce aux différents p…\n",
      "\n",
      "13) : Grâce au programme « École de la seconde chance », nos jeunes peuvent accéder à des formations qualifiantes, qui facilite…\n",
      "\n",
      "14) : Entre 2011 et 2019, nous avons recruté plus de 70 000 personnels enseignants et agents d’encadrement afin de renforcer l’…\n",
      "\n",
      "15) : En 2020, nous avons mis en œuvre la Couverture Maladie Universelle (CMU), au plan national, pour favoriser l’accès aux so…\n",
      "\n",
      "16) : Le bien-être des Ivoiriens est au cœur de notre action ! Le Programme Social du Gouvernement PSGouv, apporte des solutio…\n",
      "\n",
      "17) Je suis arrivé, ce lundi, en ArabieSaoudite pour une visite d'amitié et de travail. \n",
      "\n",
      "Je remercie les autorités saoudiennes pour leur accueil. \n",
      "\n",
      "18) Mes chaleureuses félicitations au Président  pour sa réélection à la Présidence de la République française.\n",
      "\n",
      "Je me réjouis de poursuivre avec lui le renforcement des liens d’amitié et de coopération entre la Côte d’Ivoire et la France.\n",
      "\n",
      "19) Lors du ConseildesMinistresCI ce jeudi, j’ai demandé aux membres du nouveau Gvt de se mettre au travail afin de  poursuivre les réformes pour dynamiser notre économie et accélérer la mise en œuvre de notre programme UneCotedIvoireSolidaire, pour le bien-être de nos populations. \n",
      "\n",
      "20) J’adresse mes vives et chaleureuses félicitations au VP Tiémoko Meyliet Koné qui vient de prêter serment devant le Conseil Constitutionnel. \n",
      "Au regard de ses qualités personnelles et professionnelles, je n’ai aucun doute qu’il saura relever les défis liés à cette nouvelle mission \n",
      "\n",
      "21) Devant le Parlement réuni en Congrès à Yamoussoukro, j’ai annoncé la nomination de Tiémoko Meyliet Koné au poste de Vice-Président de la République. J’ai également reconduit le Premier Ministre  à qui j’ai demandé de me proposer un Gouvernement resserré cette semaine \n",
      "\n",
      "22) Le VP Tiémoko Meyliet Koné a fait la preuve de ses qualités personnelles et professionnelles à toutes les hautes fonctions qu’il a occupées dans l’administration publique, dans le Gouvernement ivoirien et à l’extérieur de la Côte d’Ivoire. EtatdelaNation\n",
      "\n",
      "23) J’ai porté mon choix sur Tiémoko Meyliet Koné pour exercer les fonctions de Vice-président. C’est un technocrate hors pair, un brillant économiste, un homme compétent et travailleur. EtatdelaNation \n",
      "\n",
      "24) Joyeuses Pâques à toute la communauté chrétienne ! \n",
      "\n",
      "25) Avec mon frère , Pdt de la République togolaise, nous avons décidé de mutualiser nos efforts pour préserver la paix et la sécurité dans notre sous-région, notamment au Mali, en Guinée, et au Burkina Faso. Merci cher Faure pour cette visite fructueuse à Abidjan ! \n",
      "\n",
      "26) Ma déclaration et celle du Premier Ministre, , au ConseilDesMinistresCI de ce mercredi 13 avril 2022\n",
      "\n",
      " \n",
      "\n",
      "27) Suite à la démission de  et du Gvt, une équipe resserrée sera mise en place pour plus d’efficacité et tenir compte de la conjoncture économique mondiale. Il est impératif de réduire les dépenses de l’Etat en les réorientant vers la résilience sociale et sécuritaire. \n",
      "\n",
      "28) En cette journée mondiale de la santé, nous réaffirmons notre engagement à poursuivre nos actions pour un accès de tous nos concitoyens à des soins de qualité. \n",
      "\n",
      "29) Excellents échanges avec M. Patrice Motsepe, Président de _Online. C'est avec fierté que nous accueillerons en Côte d'Ivoire 🇨🇮 la 34e édition de la Coupe d’Afrique des Nations de Football. Nous sommes mobilisés pour faire de la CAN2023 un grand succès ! \n",
      "\n",
      "30) L’inclusion sociale des populations défavorisées et vulnérables et la lutte contre la pauvreté sont une  priorité. Nous avons décidé de pérenniser les acquis des filets sociaux avec la mise en place, sur la période 2022-2025, d’un nouveau programme \n",
      "\n",
      "31) Je me félicite tout particulièrement de l’adoption, le 30 mars 2022, de la Politique et de la Stratégie nationale pour une cacaoculture durable basée sur l’amélioration des revenus de nos producteurs, la lutte contre la déforestation et le travail des enfants. \n",
      "\n",
      "32) Ce jeudi, j'ai pris part à la levée de corps de Hadja Fatoumata Fofana, mère du Ministre Ally Coulibaly. \n",
      "\n",
      "Je réitère mes condoléances les plus émues au Ministre Ally Coulibaly et à sa famille.\n",
      "\n",
      "Que son âme repose en paix! \n",
      "\n",
      "33) Entretien avec _UN , Secrétaire Général Adjoint des Nations Unies aux Opérations de Maintien de la Paix, ce jeudi 31 mars 2022, au Palais de la Présidence de la République. \n",
      "\n",
      "34) Avec _UN, SG Adjoint des  aux Opérations de maintien de la paix, nous avons évoqué le défi sécuritaire régional ainsi que la contribution majeure de la CI 🇨🇮 aux différentes opérations de maintien de la Paix de l’ONU. \n",
      "\n",
      "35) Entretien avec , Commissaire européenne aux Partenariats Internationaux, ce mercredi 30 mars 2022 \n",
      "\n",
      "36) Je me suis entretenu aujourd’hui avec , Commissaire européenne aux partenariats internationaux. \n",
      "Nous avons abordé la situation en Ukraine ainsi que notre excellente collaboration pour répondre aux enjeux de l'inclusion des jeunes et du cacao durable 🇨🇮🇪🇺 \n",
      "\n",
      "37) Entretien avec , Président du Conseil Économique, Social et Environnemental de la République française, ce mardi 29 mars 2022, au Palais de la Présidence de la République \n",
      "\n",
      "38) Fructueux échanges avec , Pdt du Conseil Économique Social et Environnemental de 🇫🇷 , en visite de travail en CotedIvoire 🇨🇮\n",
      "La coopération entre ces deux Institutions sœurs et l’actualité internationale ont marqué nos discussions. \n",
      "\n",
      "39) C’est avec une grande tristesse que j’ai appris le décès de mon jeune frère, Soumeylou Boubeye Maiga, ancien Premier Ministre du Mali. \n",
      "\n",
      "En cette douloureuse circonstance, j’adresse mes condoléances les plus émues à sa famille et à ses proches.\n",
      "\n",
      "Que son âme repose en paix ! \n",
      "\n",
      "40) Mes chaleureuses félicitations à notre Miss, , 2e Dauphine au concours Miss Monde, pour avoir dignement représenté notre pays et magnifié  la culture ivoirienne sur la scène mondiale. \n",
      "\n",
      "Nous sommes fiers de toi ! \n",
      "\n",
      "41) …et pour la reconstruction de la Case des Enfants, le premier centre d'accueil pour enfants de la Fondation. \n",
      "\n",
      "42) Félicitations à  et à toute l’équipe de la Fondation Children of Africa pour le succès de ce 8e Dîner de Gala destiné à récolter des fonds pour la construction d’un Centre d’Accueil pour les femmes victimes de violences basées sur le genre… \n",
      "\n",
      "43) Cérémonie de Commémoration de l'an 1 du décès du Premier Ministre Hamed Bakayoko, ce jeudi 10 mars 2022, à la Grande Mosquée de la Riviera-Golf \n",
      "\n",
      "44) Moments de grande émotion, ce jeudi, à la Grande Mosquée de la Riviera-Golf, à l'occasion de la commémoration du 1er anniversaire du rappel à Dieu du Premier Ministre Hamed Bakayoko. \n",
      "\n",
      "Nous avons formulé des prières pour le repos de son âme. \n",
      "\n",
      "45) En ConseilDesMinistresCI aujourd’hui, nous avons pris des décisions importantes, notamment la subvention et le plafonnement des prix de certains produits de grande consommation pour préserver le pouvoir d’achat de nos populations.\n",
      "\n",
      "46) En cette Journée Internationale de la Femme, je rends hommage à toutes nos mères, nos sœurs et nos filles qui œuvrent au développement de notre beau pays ! JournéeInternationaleDeLaFemme \n",
      "\n",
      "47) Entretien avec Ahmed Bin Abdul Aziz KATTAN, Conseiller à la Cour Royale, Emissaire du Roi d’ArabieSaoudite \n",
      "\n",
      "48) Riches échanges ce jour avec , Émissaire du Roi Salmane Ben Abdelaziz AL SOUD, d'Arabie Saoudite. \n",
      "Nous souhaitons consolider les relations fortes qui unissent nos deux pays. \n",
      "\n",
      "49) Mes vœux de plein succès aux nouveaux Ambassadeurs de Djibouti, d’Iran, du Japon, du Pakistan et de la Namibie en CI ! \n",
      "La Côte d'Ivoire entend aller encore plus loin dans le renforcement et la diversification de notre excellente coopération avec leurs pays. \n",
      "\n",
      "50) Je félicite tous les membres des nouvelles instances et je les encourage à aller dans les régions, les départements, les villes et les villages pour remobiliser nos militants et prôner les idéaux de paix, de rassemblement et de dialogue du RHDP. \n",
      "\n",
      "51) : Décisions et annonces principales du ConseilDesMinistresCI de ce mercredi 23 février 2022 \n",
      "\n",
      "52) Face à la prolifération alarmante de travaux de remblayage non autorisés, nous avons pris des mesures fortes, notamment la suspension immédiate de tous les travaux de remblayage en cours jusqu’à la clarification foncière desdits remblais et leurs impacts environnementaux…\n",
      "\n",
      "53) L’aménagement et le bitumage du tronçon Yakassé Attobrou - Bettié de 42 km permettra de rapprocher les populations de ces deux localités et de booster les échanges économiques entre les Régions de la Mé… \n",
      "\n",
      "54) Suivez, en direct du Palais de la Présidence de la République, le compte-rendu du ConseilDesMinistresCI de ce mercredi 23 février 2022\n",
      "\n",
      " \n",
      "\n",
      "55) De retour à Abidjan après une mission à Accra, AddisAbeba et Bruxelles. \n",
      "De très bonnes perspectives pour notre pays ! \n",
      "\n"
     ]
    }
   ],
   "source": [
    "# Afficher tous les tweets positifs du PR\n",
    "l = 1\n",
    "sortedDF = df.sort_values(by=['Polarity'])\n",
    "for i in range(0, sortedDF.shape[0]):\n",
    "    if(sortedDF['Analysis'][i] == 'Positif'):\n",
    "        print(str(l) + ') ' + sortedDF['Tweets'][i])\n",
    "        print()\n",
    "        l = l+1"
   ]
  },
  {
   "cell_type": "code",
   "execution_count": 18,
   "metadata": {},
   "outputs": [
    {
     "name": "stdout",
     "output_type": "stream",
     "text": [
      "1) Cérémonie d’ouverture du Sommet des Chefs d’Etat et de Gouvernement COP15 sur la lutte contre la désertification ce lundi 09 mai 2022 au Sofitel Hôtel Ivoire à Abidjan. \n",
      "\n",
      "2) Face aux défis de la désertification, nous devons agir vite. Je me réjouis de la mobilisation  pour le lancement de la COP15 ainsi que le soutien à « l’Initiative d’Abidjan », qui vise à restaurer nos  écosystèmes forestiers dégradés et à promouvoir la gestion durable des sols. \n",
      "\n",
      "3) L’impact des phénomènes climatiques sur les terres se pose avec acuité en Côte d’Ivoire. COP15Abidjan \n",
      "\n",
      "4) Entretien avec Son Éminence le Cardinal Pietro Parolin, Secrétaire d'Etat du Saint-Siège, ce vendredi 06 mai 2022 au Palais de la Présidence de la République. \n",
      "\n",
      "5) Entretien avec _adesina, Président de la BAD, ce jeudi 05 mai 2022 au Palais de la Présidence de la République \n",
      "\n",
      "6) La journée mondiale du Patrimoine africain, nous offre l’occasion de mettre en lumière nos 5 sites emblématiques inscrits au patrimoine mondial de l’UNESCO. Une fierté pour notre pays ! \n",
      "\n",
      "PatrimoineAfricain WorldHeritage \n",
      "\n",
      "7) Réunion du ConseilNationalDeSécuritéCI ce jeudi 5 mai \n",
      "\n",
      "8) Départ pour l’Arabie Saoudite. \n",
      "\n",
      "9) Ma déclaration à l’entame du ConseilDesMinistresCI de ce jeudi 21 avril 2022\n",
      "\n",
      " \n",
      "\n",
      "10) : Communiqué de la Présidence de la République relatif à la signature du décret portant nomination des membres du Gouvernem…\n",
      "\n",
      "11) : Communiqué de la Présidence de la République \n",
      "\n",
      "12) \n",
      "\n",
      "13) \n",
      "\n",
      "14) Message sur l’état de la Nation devant le Parlement réuni en congrès, ce mardi 19 avril 2022, à la Fondation Félix Houphouët-Boigny pour la recherche de la paix, à Yamoussoukro. EtatdelaNation \n",
      "\n",
      "15) 𝐄𝐧𝐭𝐫𝐞𝐭𝐢𝐞𝐧 𝐚𝐯𝐞𝐜 , 𝐏𝐫é𝐬𝐢𝐝𝐞𝐧𝐭 𝐝𝐞 𝐥𝐚 𝐑é𝐩𝐮𝐛𝐥𝐢𝐪𝐮𝐞 𝐭𝐨𝐠𝐨𝐥𝐚𝐢𝐬𝐞, 𝐞𝐧 𝐯𝐢𝐬𝐢𝐭𝐞 𝐝𝐞 𝐭𝐫𝐚𝐯𝐚𝐢𝐥 𝐞𝐭 𝐝’𝐚𝐦𝐢𝐭𝐢é 𝐞𝐧 𝐂ô𝐭𝐞 𝐝’𝐈𝐯𝐨𝐢𝐫𝐞, 𝐜𝐞 𝐣𝐞𝐮𝐝𝐢 𝟏𝟒 𝐚𝐯𝐫𝐢𝐥 𝟐𝟎𝟐𝟐 \n",
      "\n",
      "16) Entretien avec Patrice Motsepe, Président de la Confédération Africaine de Football CAF, ce lundi 04 avril 2022 \n",
      "\n",
      "17) Garantir l’accès des populations en eau potable, une priorité pour notre pays ! \n",
      "\n",
      "18) La lutte contre la cherté de la vie est au cœur de notre action. ConseilDesMinistresCI \n",
      "\n",
      "19) …..le Sommet UEUA où j’ai insisté sur la nécessité de prendre en compte les conditions de vie de nos planteurs dans la production cacaoyère durable ;\n",
      "\n",
      "20) Plusieurs rencontres majeures ont ponctué ce mois de février 2022, notamment une visite de travail à Bruxelles à l’invitation des autorités belges ; \n",
      "\n",
      "21) Cérémonie de présentation des Lettres de créance des Ambassadeurs désignés de Djibouti, d'Iran, du Japon, du Pakistan et de Namibie en Côte d'Ivoire \n",
      "\n",
      "22) : COMMUNIQUE DE LA PRESIDENCE DE LA RÉPUBLIQUE \n",
      "\n",
      "23) Réunion du  Conseil Politique du RHDP, ce lundi 28 février 2022 \n",
      "\n",
      "24) La réorganisation  du Directoire du RHDP et la création  d’un Secrétariat Exécutif permettront de consolider nos acquis et d’améliorer nos performances. \n",
      "\n",
      "25) : Communiqué du Conseil National de Sécurité de ce jeudi 24 février 2022.  \n",
      "ConseilNationalDeSécurité \n",
      "\n",
      "\n",
      "26) Réunion du Conseil National de Sécurité, ce jeudi 24 février 2022\n",
      "ConseilNationalDeSécurité \n",
      "\n",
      "27) Lors de la réunion du ConseilNationalDeSécurité, j’ai insisté sur la nécessité de poursuivre les actions de développement local ainsi que les initiatives génératrices de revenus initiée dans la région Nord de notre pays afin de lutter contre l’extrémisme dans cette zone. \n",
      "\n",
      "28) : 𝐂𝐨𝐦𝐦𝐮𝐧𝐢𝐪𝐮𝐞́ 𝐝𝐮 𝐂𝐨𝐧𝐬𝐞𝐢𝐥 𝐍𝐚𝐭𝐢𝐨𝐧𝐚𝐥 𝐝𝐞 𝐒𝐞́𝐜𝐮𝐫𝐢𝐭𝐞́ \n",
      "\n",
      "29) …la saisie des équipements de dragage et la sécurisation du domaine fluvio-lagunaire. ConseilDesMinistresCI\n",
      "\n",
      "30) Les problèmes environnementaux constituent une préoccupation majeure. ConseilDesMinistresCI \n",
      "\n",
      "31) …et préserver la confiance des populations en notre système de santé publique. ConseilDesMinistresCI\n",
      "\n",
      "32) Retour à Abidjan, ce mardi 22 février 2022, après une mission à Accra (Ghana), Addis-Abeba (Ethiopie) et Bruxelles (Belgique). \n",
      "\n",
      "33) Lors de nos échanges avec la Pdte du Parlement européen _President sur la future législation de l’UE sur la cacaoculture le PR  et moi avons souhaité que la production cacaoyère durable tienne compte de l’amélioration des conditions de vie de nos producteurs. \n",
      "\n",
      "34) Entretien avec Werner Hoyer, Président de la Banque Européenne d'Investissement , ce vendredi 18 février 2022 à Bruxelles \n",
      "\n"
     ]
    }
   ],
   "source": [
    "# Afficher tous les tweets neutres du PR\n",
    "l = 1\n",
    "sortedDF = df.sort_values(by=['Polarity'])\n",
    "for i in range(0, sortedDF.shape[0]):\n",
    "    if(sortedDF['Analysis'][i] == 'Neutre'):\n",
    "        print(str(l) + ') ' + sortedDF['Tweets'][i])\n",
    "        print()\n",
    "        l = l+1"
   ]
  },
  {
   "cell_type": "code",
   "execution_count": 19,
   "metadata": {},
   "outputs": [
    {
     "name": "stdout",
     "output_type": "stream",
     "text": [
      "1) Je porte personnellement «l’initiative d’Abidjan », avec l’espoir qu’elle inspirera d'autres pays, en Afrique et dans le reste du monde. COP15Abidjan. \n",
      "\n",
      "2) : Entre 2015 et 2020, l’accès à l’eau potable est passé de 65% à 82% sur l’étendue du territoire national. Le PSGouv permet…\n",
      "\n",
      "3) Cérémonie Solennelle de Prestation de Serment du Vice-Président de la République, ce mercredi 20 avril 2022 PrestationdeSermentVP \n",
      "\n",
      "4) Suivez, en direct du Palais de la Présidence de la République, la Cérémonie Solennelle de Prestation de Serment du Vice-président, ce mercredi 20 avril 2022\n",
      "\n",
      "\n",
      "\n",
      "5) Je me félicite de l’adoption, le 30 mars dernier, en ConseilDesMinistresCI, de la Politique et de la Stratégie nationale pour une cacaoculture durable basée sur l’amélioration des revenus de nos producteurs, la lutte contre la déforestation et le travail des enfants.\n",
      "\n",
      "6) Le mois de mars a été marqué par le renforcement de nos relations diplomatiques, la diversification de notre économie ainsi que la prise de mesures pour préserver le pouvoir d’achat de nos concitoyens. \n",
      "\n",
      "7) Ce vendredi, j'ai présenté mes condoléances au Ministre Ally Coulibaly et à sa famille suite au rappel à Dieu de leur mère, Hadja Fatoumata Fofana. \n",
      "\n",
      "Je partage leur peine et je leur réitère ma solidarité en cette douloureuse circonstance.\n",
      "\n",
      "Que son âme repose en paix ! \n",
      "\n",
      "8) ….le 35e Sommet ordinaire de l’Union Africaine à AddisAbeba et le Sommet extraordinaire de la CEDEAO sur la situation politique au Mali, en Guinée et au Burkina Faso, en vue d’un retour à l’ordre constitutionnel dans ces pays frères.\n",
      "\n",
      "9) … et de l’Indénié-Djuablin, et les autres régions du pays et le Ghana. ConseilDesMinistresCI\n",
      "\n",
      "10) Avec la création de l’Agence Africaine du Médicament, nous renforcerons la régulation des produits médicaux afin d’éradiquer la prolifération de produits pharmaceutiques de mauvaise qualité et falsifiés, \n",
      "\n",
      "11) Dans le cadre du SommetUEUA, j’ai participé à une table ronde sur l’agriculture et le développement durable.\n",
      "Aux côtés de mes homologues, j’ai soutenu l’adoption de systèmes de production durables et résilients: rotation des cultures, développement de l’agriculture biologique... \n",
      "\n"
     ]
    }
   ],
   "source": [
    "# Afficher tous les tweets negatifs du PR\n",
    "l = 1\n",
    "sortedDF = df.sort_values(by=['Polarity'], ascending='False')\n",
    "for i in range(0, sortedDF.shape[0]):\n",
    "    if(sortedDF['Analysis'][i] == 'Negatif'):\n",
    "        print(str(l) + ') ' + sortedDF['Tweets'][i])\n",
    "        print()\n",
    "        l = l+1"
   ]
  },
  {
   "cell_type": "code",
   "execution_count": 20,
   "metadata": {},
   "outputs": [
    {
     "data": {
      "image/png": "[encoded data removed]",
      "text/plain": [
       "<Figure size 576x432 with 1 Axes>"
      ]
     },
     "metadata": {},
     "output_type": "display_data"
    },
    {
     "data": {
      "text/plain": [
       "<Figure size 432x288 with 0 Axes>"
      ]
     },
     "metadata": {},
     "output_type": "display_data"
    }
   ],
   "source": [
    "# Tracer la polarité et la subjectivité\n",
    "plt.figure(figsize=(8,6))\n",
    "for i in range(0, df.shape[0]):\n",
    "    plt.scatter(df['Polarity'][i], df['Subjectivity'][i], color = 'Blue')\n",
    "    \n",
    "plt.title('Analyse des Sentiments du PR ADO')\n",
    "plt.xlabel('Polarity')\n",
    "plt.ylabel('Subjectivity')\n",
    "plt.show()\n",
    "plt.savefig('Visualisation_Polarité_Subjectivité')"
   ]
  },
  {
   "cell_type": "code",
   "execution_count": 21,
   "metadata": {},
   "outputs": [
    {
     "data": {
      "text/plain": [
       "55.0"
      ]
     },
     "execution_count": 21,
     "metadata": {},
     "output_type": "execute_result"
    }
   ],
   "source": [
    "# Obtenir le pourcentage de tweets positifs\n",
    "tweets_positifs = df[df.Analysis == 'Positif']\n",
    "tweets_positifs = tweets_positifs['Tweets']\n",
    "\n",
    "round( (tweets_positifs.shape[0] / df.shape[0]) * 100, 1)"
   ]
  },
  {
   "cell_type": "code",
   "execution_count": 22,
   "metadata": {},
   "outputs": [
    {
     "data": {
      "text/plain": [
       "34.0"
      ]
     },
     "execution_count": 22,
     "metadata": {},
     "output_type": "execute_result"
    }
   ],
   "source": [
    "# Obtenir le pourcentage de tweets neutres \n",
    "tweets_neutres = df[df.Analysis == 'Neutre']\n",
    "tweets_neutres = tweets_neutres['Tweets']\n",
    "\n",
    "round( (tweets_neutres.shape[0] / df.shape[0]) * 100, 1)"
   ]
  },
  {
   "cell_type": "code",
   "execution_count": 23,
   "metadata": {},
   "outputs": [
    {
     "data": {
      "text/plain": [
       "11.0"
      ]
     },
     "execution_count": 23,
     "metadata": {},
     "output_type": "execute_result"
    }
   ],
   "source": [
    "# Obtenir le pourcentage de tweets négatifs\n",
    "tweets_negatifs = df[df.Analysis == 'Negatif']\n",
    "tweets_negatifs = tweets_negatifs['Tweets']\n",
    "\n",
    "round( (tweets_negatifs.shape[0] / df.shape[0]) * 100, 1)"
   ]
  },
  {
   "cell_type": "code",
   "execution_count": 24,
   "metadata": {},
   "outputs": [
    {
     "data": {
      "image/png": "[encoded data removed]",
      "text/plain": [
       "<Figure size 432x288 with 1 Axes>"
      ]
     },
     "metadata": {},
     "output_type": "display_data"
    },
    {
     "data": {
      "text/plain": [
       "<Figure size 432x288 with 0 Axes>"
      ]
     },
     "metadata": {},
     "output_type": "display_data"
    }
   ],
   "source": [
    "# Afficher les fréquences \n",
    "\n",
    "df['Analysis'].value_counts()\n",
    "\n",
    "# Tracer et visualiser les fréquences de tweets par sentiment\n",
    "plt.title('Analyse des Sentiments du PR ADO')\n",
    "plt.xlabel('Sentiment')\n",
    "plt.ylabel('Fréquence')\n",
    "df['Analysis'].value_counts().plot(kind='bar')\n",
    "plt.show()\n",
    "plt.savefig('Resultats_Analyse')"
   ]
  },
  {
   "cell_type": "code",
   "execution_count": 25,
   "metadata": {},
   "outputs": [],
   "source": [
    "# Sauvegarde des résultats\n",
    "df.to_csv('PrAdo_Sentiment_Analysis.csv')"
   ]
  },
  {
   "cell_type": "code",
   "execution_count": null,
   "metadata": {},
   "outputs": [],
   "source": []
  }
 ],
 "metadata": {
  "kernelspec": {
   "display_name": "Python 3",
   "language": "python",
   "name": "python3"
  },
  "language_info": {
   "codemirror_mode": {
    "name": "ipython",
    "version": 3
   },
   "file_extension": ".py",
   "mimetype": "text/x-python",
   "name": "python",
   "nbconvert_exporter": "python",
   "pygments_lexer": "ipython3",
   "version": "3.8.5"
  }
 },
 "nbformat": 4,
 "nbformat_minor": 4
}
