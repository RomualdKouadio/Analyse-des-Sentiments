{
 "cells": [
  {
   "cell_type": "code",
   "execution_count": 1,
   "metadata": {},
   "outputs": [
    {
     "name": "stdout",
     "output_type": "stream",
     "text": [
      "Requirement already satisfied: textblob in c:\\users\\romual\\anaconda3\\anaconda_3\\lib\\site-packages (0.17.1)\n",
      "Requirement already satisfied: nltk>=3.1; python_version >= \"3\" in c:\\users\\romual\\anaconda3\\anaconda_3\\lib\\site-packages (from textblob) (3.5)\n",
      "Requirement already satisfied: regex in c:\\users\\romual\\anaconda3\\anaconda_3\\lib\\site-packages (from nltk>=3.1; python_version >= \"3\"->textblob) (2020.10.15)\n",
      "Requirement already satisfied: tqdm in c:\\users\\romual\\anaconda3\\anaconda_3\\lib\\site-packages (from nltk>=3.1; python_version >= \"3\"->textblob) (4.50.2)\n",
      "Requirement already satisfied: joblib in c:\\users\\romual\\anaconda3\\anaconda_3\\lib\\site-packages (from nltk>=3.1; python_version >= \"3\"->textblob) (0.17.0)\n",
      "Requirement already satisfied: click in c:\\users\\romual\\anaconda3\\anaconda_3\\lib\\site-packages (from nltk>=3.1; python_version >= \"3\"->textblob) (8.1.2)\n",
      "Requirement already satisfied: colorama; platform_system == \"Windows\" in c:\\users\\romual\\anaconda3\\anaconda_3\\lib\\site-packages (from click->nltk>=3.1; python_version >= \"3\"->textblob) (0.4.4)\n"
     ]
    }
   ],
   "source": [
    "!pip install textblob"
   ]
  },
  {
   "cell_type": "code",
   "execution_count": 2,
   "metadata": {},
   "outputs": [
    {
     "name": "stdout",
     "output_type": "stream",
     "text": [
      "Requirement already satisfied: tweepy in c:\\users\\romual\\anaconda3\\anaconda_3\\lib\\site-packages (4.8.0)\n",
      "Requirement already satisfied: requests-oauthlib<2,>=1.2.0 in c:\\users\\romual\\anaconda3\\anaconda_3\\lib\\site-packages (from tweepy) (1.3.1)\n",
      "Requirement already satisfied: requests<3,>=2.27.0 in c:\\users\\romual\\anaconda3\\anaconda_3\\lib\\site-packages (from tweepy) (2.27.1)\n",
      "Requirement already satisfied: oauthlib<4,>=3.2.0 in c:\\users\\romual\\anaconda3\\anaconda_3\\lib\\site-packages (from tweepy) (3.2.0)\n",
      "Requirement already satisfied: charset-normalizer~=2.0.0; python_version >= \"3\" in c:\\users\\romual\\anaconda3\\anaconda_3\\lib\\site-packages (from requests<3,>=2.27.0->tweepy) (2.0.12)\n",
      "Requirement already satisfied: idna<4,>=2.5; python_version >= \"3\" in c:\\users\\romual\\anaconda3\\anaconda_3\\lib\\site-packages (from requests<3,>=2.27.0->tweepy) (2.10)\n",
      "Requirement already satisfied: certifi>=2017.4.17 in c:\\users\\romual\\anaconda3\\anaconda_3\\lib\\site-packages (from requests<3,>=2.27.0->tweepy) (2020.6.20)\n",
      "Requirement already satisfied: urllib3<1.27,>=1.21.1 in c:\\users\\romual\\anaconda3\\anaconda_3\\lib\\site-packages (from requests<3,>=2.27.0->tweepy) (1.25.11)\n"
     ]
    }
   ],
   "source": [
    "!pip install tweepy"
   ]
  },
  {
   "cell_type": "code",
   "execution_count": 3,
   "metadata": {},
   "outputs": [
    {
     "name": "stdout",
     "output_type": "stream",
     "text": [
      "Requirement already satisfied: wordcloud in c:\\users\\romual\\anaconda3\\anaconda_3\\lib\\site-packages (1.8.1)\n",
      "Requirement already satisfied: pillow in c:\\users\\romual\\anaconda3\\anaconda_3\\lib\\site-packages (from wordcloud) (8.0.1)\n",
      "Requirement already satisfied: matplotlib in c:\\users\\romual\\anaconda3\\anaconda_3\\lib\\site-packages (from wordcloud) (3.3.2)\n",
      "Requirement already satisfied: numpy>=1.6.1 in c:\\users\\romual\\anaconda3\\anaconda_3\\lib\\site-packages (from wordcloud) (1.19.2)\n",
      "Requirement already satisfied: pyparsing!=2.0.4,!=2.1.2,!=2.1.6,>=2.0.3 in c:\\users\\romual\\anaconda3\\anaconda_3\\lib\\site-packages (from matplotlib->wordcloud) (2.4.7)\n",
      "Requirement already satisfied: python-dateutil>=2.1 in c:\\users\\romual\\anaconda3\\anaconda_3\\lib\\site-packages (from matplotlib->wordcloud) (2.8.1)\n",
      "Requirement already satisfied: kiwisolver>=1.0.1 in c:\\users\\romual\\anaconda3\\anaconda_3\\lib\\site-packages (from matplotlib->wordcloud) (1.3.0)\n",
      "Requirement already satisfied: certifi>=2020.06.20 in c:\\users\\romual\\anaconda3\\anaconda_3\\lib\\site-packages (from matplotlib->wordcloud) (2020.6.20)\n",
      "Requirement already satisfied: cycler>=0.10 in c:\\users\\romual\\anaconda3\\anaconda_3\\lib\\site-packages (from matplotlib->wordcloud) (0.10.0)\n",
      "Requirement already satisfied: six>=1.5 in c:\\users\\romual\\anaconda3\\anaconda_3\\lib\\site-packages (from python-dateutil>=2.1->matplotlib->wordcloud) (1.15.0)\n"
     ]
    }
   ],
   "source": [
    "!pip install wordcloud"
   ]
  },
  {
   "cell_type": "code",
   "execution_count": 4,
   "metadata": {},
   "outputs": [
    {
     "name": "stdout",
     "output_type": "stream",
     "text": [
      "Requirement already satisfied: regex in c:\\users\\romual\\anaconda3\\anaconda_3\\lib\\site-packages (2020.10.15)\n"
     ]
    }
   ],
   "source": [
    "!pip install regex"
   ]
  },
  {
   "cell_type": "code",
   "execution_count": 5,
   "metadata": {},
   "outputs": [
    {
     "name": "stdout",
     "output_type": "stream",
     "text": [
      "Requirement already satisfied: textblob-fr in c:\\users\\romual\\anaconda3\\anaconda_3\\lib\\site-packages (0.2.0)\n",
      "Requirement already satisfied: textblob>=0.8.0 in c:\\users\\romual\\anaconda3\\anaconda_3\\lib\\site-packages (from textblob-fr) (0.17.1)\n",
      "Requirement already satisfied: nltk>=3.1; python_version >= \"3\" in c:\\users\\romual\\anaconda3\\anaconda_3\\lib\\site-packages (from textblob>=0.8.0->textblob-fr) (3.5)\n",
      "Requirement already satisfied: click in c:\\users\\romual\\anaconda3\\anaconda_3\\lib\\site-packages (from nltk>=3.1; python_version >= \"3\"->textblob>=0.8.0->textblob-fr) (8.1.2)\n",
      "Requirement already satisfied: regex in c:\\users\\romual\\anaconda3\\anaconda_3\\lib\\site-packages (from nltk>=3.1; python_version >= \"3\"->textblob>=0.8.0->textblob-fr) (2020.10.15)\n",
      "Requirement already satisfied: joblib in c:\\users\\romual\\anaconda3\\anaconda_3\\lib\\site-packages (from nltk>=3.1; python_version >= \"3\"->textblob>=0.8.0->textblob-fr) (0.17.0)\n",
      "Requirement already satisfied: tqdm in c:\\users\\romual\\anaconda3\\anaconda_3\\lib\\site-packages (from nltk>=3.1; python_version >= \"3\"->textblob>=0.8.0->textblob-fr) (4.50.2)\n",
      "Requirement already satisfied: colorama; platform_system == \"Windows\" in c:\\users\\romual\\anaconda3\\anaconda_3\\lib\\site-packages (from click->nltk>=3.1; python_version >= \"3\"->textblob>=0.8.0->textblob-fr) (0.4.4)\n"
     ]
    }
   ],
   "source": [
    "!pip install textblob-fr"
   ]
  },
  {
   "cell_type": "code",
   "execution_count": 6,
   "metadata": {},
   "outputs": [],
   "source": [
    "# Importer les librairies \n",
    "import tweepy \n",
    "from textblob import TextBlob\n",
    "from textblob_fr import PatternTagger, PatternAnalyzer\n",
    "from wordcloud import WordCloud\n",
    "import pandas as pd\n",
    "import numpy as np\n",
    "import re\n",
    "import matplotlib.pyplot as plt\n",
    "plt.style.use('fivethirtyeight')"
   ]
  },
  {
   "cell_type": "code",
   "execution_count": 7,
   "metadata": {},
   "outputs": [],
   "source": [
    "# Charger les données d'authentification Client de l'API Twitter depuis un fichier excel \n",
    "log = pd.read_excel(\"C:/Users/Romual/Desktop/Login.xlsx\")"
   ]
  },
  {
   "cell_type": "code",
   "execution_count": 8,
   "metadata": {},
   "outputs": [
    {
     "data": {
      "text/plain": [
       "Index(['key1', 'key2', 'key3', 'key4'], dtype='object')"
      ]
     },
     "execution_count": 8,
     "metadata": {},
     "output_type": "execute_result"
    }
   ],
   "source": [
    "log.columns"
   ]
  },
  {
   "cell_type": "code",
   "execution_count": 9,
   "metadata": {},
   "outputs": [],
   "source": [
    "# Twitter API Credentials\n",
    "consumerKey = log.iloc[0,0]\n",
    "consumerSecret = log.iloc[0,1]\n",
    "accessToken = log.iloc[0,2]\n",
    "accessTokenSecret = log.iloc[0,3]"
   ]
  },
  {
   "cell_type": "code",
   "execution_count": 10,
   "metadata": {},
   "outputs": [],
   "source": [
    "# Créer l'objet d'authentification\n",
    "auth = tweepy.OAuthHandler(consumerKey, consumerSecret)\n",
    "\n",
    "# Parametrer le access token et le access token secret\n",
    "auth.set_access_token(accessToken, accessTokenSecret)\n",
    "\n",
    "# Créer l'objet API en transmettant les informations d'authentification\n",
    "api = tweepy.API(auth, wait_on_rate_limit= True)"
   ]
  },
  {
   "cell_type": "code",
   "execution_count": 11,
   "metadata": {},
   "outputs": [
    {
     "name": "stdout",
     "output_type": "stream",
     "text": [
      "Afficher les 5 tweets récents: \n",
      "\n",
      "1) Prière de la fin du #Ramadan (Aïd el-Fitr) à la Grande Mosquée de la Riviera Golf. https://t.co/GiIACOnC4z\n",
      "\n",
      "2) Ce lundi, j’ai pris part à la prière de l’Aïd el-Fitr. \n",
      "\n",
      "Je souhaite une excellente fête de Ramadan à tous nos frères et sœurs musulmans, dans la paix, la solidarité et le bonheur.\n",
      "\n",
      "Que Dieu bénisse notre beau Pays ! https://t.co/HmJUnOUT4r\n",
      "\n",
      "3) A l’occasion de la célébration de l’Aïd El Fitr, marquant la fin du jeûne du mois de Ramadan, je souhaite une très bonne fête à toute la communauté musulmane. https://t.co/gun54ohLgx\n",
      "\n",
      "4) Je félicite les travailleuses et les travailleurs du monde paysan, de la fonction publique et du secteur privé dont les efforts et l’abnégation au travail ont permis à notre pays de réaliser des performances économiques et sociales remarquables au cours des 10 dernières années ! https://t.co/xUYqOaRr7q\n",
      "\n",
      "5) Heureux de regagner Abidjan, ce vendredi, après un séjour en #ArabieSaoudite. https://t.co/Kd30ZisS8Q\n",
      "\n"
     ]
    }
   ],
   "source": [
    "# Extraire 100 tweets de l'utilisateur Twitter\n",
    "posts = api.user_timeline(screen_name= \"AOuattara_PRCI\", count= 100, tweet_mode=\"extended\")\n",
    "\n",
    "# Afficher les 5 derniers tweets du compte du PR Alassane Ouattara \n",
    "print(\"Afficher les 5 tweets récents: \\n\")\n",
    "i=1\n",
    "for tweet in posts[0:5]:\n",
    "    print(str(i) + \") \"+ tweet.full_text + \"\\n\")\n",
    "    i= i+1"
   ]
  },
  {
   "cell_type": "code",
   "execution_count": 12,
   "metadata": {},
   "outputs": [
    {
     "data": {
      "text/html": [
       "<div>\n",
       "<style scoped>\n",
       "    .dataframe tbody tr th:only-of-type {\n",
       "        vertical-align: middle;\n",
       "    }\n",
       "\n",
       "    .dataframe tbody tr th {\n",
       "        vertical-align: top;\n",
       "    }\n",
       "\n",
       "    .dataframe thead th {\n",
       "        text-align: right;\n",
       "    }\n",
       "</style>\n",
       "<table border=\"1\" class=\"dataframe\">\n",
       "  <thead>\n",
       "    <tr style=\"text-align: right;\">\n",
       "      <th></th>\n",
       "      <th>Tweets</th>\n",
       "    </tr>\n",
       "  </thead>\n",
       "  <tbody>\n",
       "    <tr>\n",
       "      <th>0</th>\n",
       "      <td>Prière de la fin du #Ramadan (Aïd el-Fitr) à l...</td>\n",
       "    </tr>\n",
       "    <tr>\n",
       "      <th>1</th>\n",
       "      <td>Ce lundi, j’ai pris part à la prière de l’Aïd ...</td>\n",
       "    </tr>\n",
       "    <tr>\n",
       "      <th>2</th>\n",
       "      <td>A l’occasion de la célébration de l’Aïd El Fit...</td>\n",
       "    </tr>\n",
       "    <tr>\n",
       "      <th>3</th>\n",
       "      <td>Je félicite les travailleuses et les travaille...</td>\n",
       "    </tr>\n",
       "    <tr>\n",
       "      <th>4</th>\n",
       "      <td>Heureux de regagner Abidjan, ce vendredi, aprè...</td>\n",
       "    </tr>\n",
       "  </tbody>\n",
       "</table>\n",
       "</div>"
      ],
      "text/plain": [
       "                                              Tweets\n",
       "0  Prière de la fin du #Ramadan (Aïd el-Fitr) à l...\n",
       "1  Ce lundi, j’ai pris part à la prière de l’Aïd ...\n",
       "2  A l’occasion de la célébration de l’Aïd El Fit...\n",
       "3  Je félicite les travailleuses et les travaille...\n",
       "4  Heureux de regagner Abidjan, ce vendredi, aprè..."
      ]
     },
     "execution_count": 12,
     "metadata": {},
     "output_type": "execute_result"
    }
   ],
   "source": [
    "# Créer un dataframe avec une colonne appelée Tweets dans lequel nous allons ajouter nos tweets\n",
    "df = pd.DataFrame([tweet.full_text for tweet in posts], columns=['Tweets'])\n",
    "\n",
    "# Afficher les 5 premières lignes de données\n",
    "df.head()"
   ]
  },
  {
   "cell_type": "code",
   "execution_count": 13,
   "metadata": {},
   "outputs": [
    {
     "data": {
      "text/html": [
       "<div>\n",
       "<style scoped>\n",
       "    .dataframe tbody tr th:only-of-type {\n",
       "        vertical-align: middle;\n",
       "    }\n",
       "\n",
       "    .dataframe tbody tr th {\n",
       "        vertical-align: top;\n",
       "    }\n",
       "\n",
       "    .dataframe thead th {\n",
       "        text-align: right;\n",
       "    }\n",
       "</style>\n",
       "<table border=\"1\" class=\"dataframe\">\n",
       "  <thead>\n",
       "    <tr style=\"text-align: right;\">\n",
       "      <th></th>\n",
       "      <th>Tweets</th>\n",
       "    </tr>\n",
       "  </thead>\n",
       "  <tbody>\n",
       "    <tr>\n",
       "      <th>0</th>\n",
       "      <td>Prière de la fin du Ramadan (Aïd el-Fitr) à la...</td>\n",
       "    </tr>\n",
       "    <tr>\n",
       "      <th>1</th>\n",
       "      <td>Ce lundi, j’ai pris part à la prière de l’Aïd ...</td>\n",
       "    </tr>\n",
       "    <tr>\n",
       "      <th>2</th>\n",
       "      <td>A l’occasion de la célébration de l’Aïd El Fit...</td>\n",
       "    </tr>\n",
       "    <tr>\n",
       "      <th>3</th>\n",
       "      <td>Je félicite les travailleuses et les travaille...</td>\n",
       "    </tr>\n",
       "    <tr>\n",
       "      <th>4</th>\n",
       "      <td>Heureux de regagner Abidjan, ce vendredi, aprè...</td>\n",
       "    </tr>\n",
       "    <tr>\n",
       "      <th>...</th>\n",
       "      <td>...</td>\n",
       "    </tr>\n",
       "    <tr>\n",
       "      <th>95</th>\n",
       "      <td>Thank you  for our constructive discussion on ...</td>\n",
       "    </tr>\n",
       "    <tr>\n",
       "      <th>96</th>\n",
       "      <td>Entretien avec Jutta URPILAINEN, Commissaire e...</td>\n",
       "    </tr>\n",
       "    <tr>\n",
       "      <th>97</th>\n",
       "      <td>Nos échanges ont porté sur le renforcement de ...</td>\n",
       "    </tr>\n",
       "    <tr>\n",
       "      <th>98</th>\n",
       "      <td>J'ai eu un entretien avec la Commissaire europ...</td>\n",
       "    </tr>\n",
       "    <tr>\n",
       "      <th>99</th>\n",
       "      <td>Ce mardi, j'ai eu des échanges fructueux avec ...</td>\n",
       "    </tr>\n",
       "  </tbody>\n",
       "</table>\n",
       "<p>100 rows × 1 columns</p>\n",
       "</div>"
      ],
      "text/plain": [
       "                                               Tweets\n",
       "0   Prière de la fin du Ramadan (Aïd el-Fitr) à la...\n",
       "1   Ce lundi, j’ai pris part à la prière de l’Aïd ...\n",
       "2   A l’occasion de la célébration de l’Aïd El Fit...\n",
       "3   Je félicite les travailleuses et les travaille...\n",
       "4   Heureux de regagner Abidjan, ce vendredi, aprè...\n",
       "..                                                ...\n",
       "95  Thank you  for our constructive discussion on ...\n",
       "96  Entretien avec Jutta URPILAINEN, Commissaire e...\n",
       "97  Nos échanges ont porté sur le renforcement de ...\n",
       "98  J'ai eu un entretien avec la Commissaire europ...\n",
       "99  Ce mardi, j'ai eu des échanges fructueux avec ...\n",
       "\n",
       "[100 rows x 1 columns]"
      ]
     },
     "execution_count": 13,
     "metadata": {},
     "output_type": "execute_result"
    }
   ],
   "source": [
    "# Nettoyer le texte pour le préparer à l'analyse de sentiment\n",
    "\n",
    "# Créer une fonction pour nettoyer les tweets\n",
    "def NettoyerTxt(texte):\n",
    "    texte = re.sub(r'@[A-Za-z0-9]+', '', texte) # Supprimer les @mentions\n",
    "    texte = re.sub(r'#', '', texte) # Supprimer les symboles '#'\n",
    "    texte = re.sub(r'RT[\\s]+', '', texte) # Supprimer RT\n",
    "    texte = re.sub(r'https?:\\/\\/\\S+', '', texte) # Supprimer les liens hyper textes\n",
    "    \n",
    "    return texte\n",
    "\n",
    "# Nettoyage du texte\n",
    "df['Tweets'] = df['Tweets'].apply(NettoyerTxt)\n",
    "\n",
    "# Afficher le texte nettoyé\n",
    "df"
   ]
  },
  {
   "cell_type": "code",
   "execution_count": 14,
   "metadata": {},
   "outputs": [],
   "source": [
    "# Enregistrer notre jeu de données \n",
    "df.to_csv('Tweets_Ado.csv')"
   ]
  },
  {
   "cell_type": "code",
   "execution_count": 15,
   "metadata": {},
   "outputs": [
    {
     "data": {
      "text/html": [
       "<div>\n",
       "<style scoped>\n",
       "    .dataframe tbody tr th:only-of-type {\n",
       "        vertical-align: middle;\n",
       "    }\n",
       "\n",
       "    .dataframe tbody tr th {\n",
       "        vertical-align: top;\n",
       "    }\n",
       "\n",
       "    .dataframe thead th {\n",
       "        text-align: right;\n",
       "    }\n",
       "</style>\n",
       "<table border=\"1\" class=\"dataframe\">\n",
       "  <thead>\n",
       "    <tr style=\"text-align: right;\">\n",
       "      <th></th>\n",
       "      <th>Tweets</th>\n",
       "      <th>Subjectivity</th>\n",
       "      <th>Polarity</th>\n",
       "    </tr>\n",
       "  </thead>\n",
       "  <tbody>\n",
       "    <tr>\n",
       "      <th>0</th>\n",
       "      <td>Prière de la fin du Ramadan (Aïd el-Fitr) à la...</td>\n",
       "      <td>0.175000</td>\n",
       "      <td>0.100000</td>\n",
       "    </tr>\n",
       "    <tr>\n",
       "      <th>1</th>\n",
       "      <td>Ce lundi, j’ai pris part à la prière de l’Aïd ...</td>\n",
       "      <td>0.450000</td>\n",
       "      <td>0.555000</td>\n",
       "    </tr>\n",
       "    <tr>\n",
       "      <th>2</th>\n",
       "      <td>A l’occasion de la célébration de l’Aïd El Fit...</td>\n",
       "      <td>0.416667</td>\n",
       "      <td>0.373333</td>\n",
       "    </tr>\n",
       "    <tr>\n",
       "      <th>3</th>\n",
       "      <td>Je félicite les travailleuses et les travaille...</td>\n",
       "      <td>0.200000</td>\n",
       "      <td>0.059643</td>\n",
       "    </tr>\n",
       "    <tr>\n",
       "      <th>4</th>\n",
       "      <td>Heureux de regagner Abidjan, ce vendredi, aprè...</td>\n",
       "      <td>0.800000</td>\n",
       "      <td>0.700000</td>\n",
       "    </tr>\n",
       "    <tr>\n",
       "      <th>...</th>\n",
       "      <td>...</td>\n",
       "      <td>...</td>\n",
       "      <td>...</td>\n",
       "    </tr>\n",
       "    <tr>\n",
       "      <th>95</th>\n",
       "      <td>Thank you  for our constructive discussion on ...</td>\n",
       "      <td>0.000000</td>\n",
       "      <td>0.000000</td>\n",
       "    </tr>\n",
       "    <tr>\n",
       "      <th>96</th>\n",
       "      <td>Entretien avec Jutta URPILAINEN, Commissaire e...</td>\n",
       "      <td>0.000000</td>\n",
       "      <td>0.175000</td>\n",
       "    </tr>\n",
       "    <tr>\n",
       "      <th>97</th>\n",
       "      <td>Nos échanges ont porté sur le renforcement de ...</td>\n",
       "      <td>0.000000</td>\n",
       "      <td>0.000000</td>\n",
       "    </tr>\n",
       "    <tr>\n",
       "      <th>98</th>\n",
       "      <td>J'ai eu un entretien avec la Commissaire europ...</td>\n",
       "      <td>0.000000</td>\n",
       "      <td>0.175000</td>\n",
       "    </tr>\n",
       "    <tr>\n",
       "      <th>99</th>\n",
       "      <td>Ce mardi, j'ai eu des échanges fructueux avec ...</td>\n",
       "      <td>0.066667</td>\n",
       "      <td>0.033333</td>\n",
       "    </tr>\n",
       "  </tbody>\n",
       "</table>\n",
       "<p>100 rows × 3 columns</p>\n",
       "</div>"
      ],
      "text/plain": [
       "                                               Tweets  Subjectivity  Polarity\n",
       "0   Prière de la fin du Ramadan (Aïd el-Fitr) à la...      0.175000  0.100000\n",
       "1   Ce lundi, j’ai pris part à la prière de l’Aïd ...      0.450000  0.555000\n",
       "2   A l’occasion de la célébration de l’Aïd El Fit...      0.416667  0.373333\n",
       "3   Je félicite les travailleuses et les travaille...      0.200000  0.059643\n",
       "4   Heureux de regagner Abidjan, ce vendredi, aprè...      0.800000  0.700000\n",
       "..                                                ...           ...       ...\n",
       "95  Thank you  for our constructive discussion on ...      0.000000  0.000000\n",
       "96  Entretien avec Jutta URPILAINEN, Commissaire e...      0.000000  0.175000\n",
       "97  Nos échanges ont porté sur le renforcement de ...      0.000000  0.000000\n",
       "98  J'ai eu un entretien avec la Commissaire europ...      0.000000  0.175000\n",
       "99  Ce mardi, j'ai eu des échanges fructueux avec ...      0.066667  0.033333\n",
       "\n",
       "[100 rows x 3 columns]"
      ]
     },
     "execution_count": 15,
     "metadata": {},
     "output_type": "execute_result"
    }
   ],
   "source": [
    "# Créer une fonction pour obtenir la subjectivité\n",
    "def getSubjectivity(texte):\n",
    "    return TextBlob(texte,pos_tagger=PatternTagger(),analyzer=PatternAnalyzer()).sentiment[1]\n",
    "\n",
    "# Créer une fonction pour obtenir la polarité\n",
    "def getPolarity(texte):\n",
    "    return TextBlob(texte,pos_tagger=PatternTagger(),analyzer=PatternAnalyzer()).sentiment[0]\n",
    "\n",
    "# Créer deux nouvelles colonnes\n",
    "df['Subjectivity'] = df['Tweets'].apply(getSubjectivity)\n",
    "df['Polarity'] = df['Tweets'].apply(getPolarity)\n",
    "\n",
    "# Afficher le nouveau dataframe avec les nouvelles colonnes ajoutées \n",
    "df"
   ]
  },
  {
   "cell_type": "code",
   "execution_count": 16,
   "metadata": {},
   "outputs": [
    {
     "data": {
      "image/png": "[encoded data removed]",
      "text/plain": [
       "<Figure size 432x288 with 1 Axes>"
      ]
     },
     "metadata": {},
     "output_type": "display_data"
    }
   ],
   "source": [
    "# Tracer le nuage de mots 'word cloud'\n",
    "allWords = ' '.join( [twts for twts in df['Tweets']] )\n",
    "wordCloud = WordCloud(width = 500, height = 300, random_state = 21, max_font_size = 119).generate(allWords)\n",
    "\n",
    "plt.imshow(wordCloud, interpolation = \"bilinear\")\n",
    "plt.axis('off')\n",
    "plt.show()"
   ]
  },
  {
   "cell_type": "code",
   "execution_count": 17,
   "metadata": {},
   "outputs": [
    {
     "data": {
      "text/html": [
       "<div>\n",
       "<style scoped>\n",
       "    .dataframe tbody tr th:only-of-type {\n",
       "        vertical-align: middle;\n",
       "    }\n",
       "\n",
       "    .dataframe tbody tr th {\n",
       "        vertical-align: top;\n",
       "    }\n",
       "\n",
       "    .dataframe thead th {\n",
       "        text-align: right;\n",
       "    }\n",
       "</style>\n",
       "<table border=\"1\" class=\"dataframe\">\n",
       "  <thead>\n",
       "    <tr style=\"text-align: right;\">\n",
       "      <th></th>\n",
       "      <th>Tweets</th>\n",
       "      <th>Subjectivity</th>\n",
       "      <th>Polarity</th>\n",
       "      <th>Analysis</th>\n",
       "    </tr>\n",
       "  </thead>\n",
       "  <tbody>\n",
       "    <tr>\n",
       "      <th>0</th>\n",
       "      <td>Prière de la fin du Ramadan (Aïd el-Fitr) à la...</td>\n",
       "      <td>0.175000</td>\n",
       "      <td>0.100000</td>\n",
       "      <td>Positif</td>\n",
       "    </tr>\n",
       "    <tr>\n",
       "      <th>1</th>\n",
       "      <td>Ce lundi, j’ai pris part à la prière de l’Aïd ...</td>\n",
       "      <td>0.450000</td>\n",
       "      <td>0.555000</td>\n",
       "      <td>Positif</td>\n",
       "    </tr>\n",
       "    <tr>\n",
       "      <th>2</th>\n",
       "      <td>A l’occasion de la célébration de l’Aïd El Fit...</td>\n",
       "      <td>0.416667</td>\n",
       "      <td>0.373333</td>\n",
       "      <td>Positif</td>\n",
       "    </tr>\n",
       "    <tr>\n",
       "      <th>3</th>\n",
       "      <td>Je félicite les travailleuses et les travaille...</td>\n",
       "      <td>0.200000</td>\n",
       "      <td>0.059643</td>\n",
       "      <td>Positif</td>\n",
       "    </tr>\n",
       "    <tr>\n",
       "      <th>4</th>\n",
       "      <td>Heureux de regagner Abidjan, ce vendredi, aprè...</td>\n",
       "      <td>0.800000</td>\n",
       "      <td>0.700000</td>\n",
       "      <td>Positif</td>\n",
       "    </tr>\n",
       "    <tr>\n",
       "      <th>...</th>\n",
       "      <td>...</td>\n",
       "      <td>...</td>\n",
       "      <td>...</td>\n",
       "      <td>...</td>\n",
       "    </tr>\n",
       "    <tr>\n",
       "      <th>95</th>\n",
       "      <td>Thank you  for our constructive discussion on ...</td>\n",
       "      <td>0.000000</td>\n",
       "      <td>0.000000</td>\n",
       "      <td>Neutre</td>\n",
       "    </tr>\n",
       "    <tr>\n",
       "      <th>96</th>\n",
       "      <td>Entretien avec Jutta URPILAINEN, Commissaire e...</td>\n",
       "      <td>0.000000</td>\n",
       "      <td>0.175000</td>\n",
       "      <td>Positif</td>\n",
       "    </tr>\n",
       "    <tr>\n",
       "      <th>97</th>\n",
       "      <td>Nos échanges ont porté sur le renforcement de ...</td>\n",
       "      <td>0.000000</td>\n",
       "      <td>0.000000</td>\n",
       "      <td>Neutre</td>\n",
       "    </tr>\n",
       "    <tr>\n",
       "      <th>98</th>\n",
       "      <td>J'ai eu un entretien avec la Commissaire europ...</td>\n",
       "      <td>0.000000</td>\n",
       "      <td>0.175000</td>\n",
       "      <td>Positif</td>\n",
       "    </tr>\n",
       "    <tr>\n",
       "      <th>99</th>\n",
       "      <td>Ce mardi, j'ai eu des échanges fructueux avec ...</td>\n",
       "      <td>0.066667</td>\n",
       "      <td>0.033333</td>\n",
       "      <td>Positif</td>\n",
       "    </tr>\n",
       "  </tbody>\n",
       "</table>\n",
       "<p>100 rows × 4 columns</p>\n",
       "</div>"
      ],
      "text/plain": [
       "                                               Tweets  Subjectivity  Polarity  \\\n",
       "0   Prière de la fin du Ramadan (Aïd el-Fitr) à la...      0.175000  0.100000   \n",
       "1   Ce lundi, j’ai pris part à la prière de l’Aïd ...      0.450000  0.555000   \n",
       "2   A l’occasion de la célébration de l’Aïd El Fit...      0.416667  0.373333   \n",
       "3   Je félicite les travailleuses et les travaille...      0.200000  0.059643   \n",
       "4   Heureux de regagner Abidjan, ce vendredi, aprè...      0.800000  0.700000   \n",
       "..                                                ...           ...       ...   \n",
       "95  Thank you  for our constructive discussion on ...      0.000000  0.000000   \n",
       "96  Entretien avec Jutta URPILAINEN, Commissaire e...      0.000000  0.175000   \n",
       "97  Nos échanges ont porté sur le renforcement de ...      0.000000  0.000000   \n",
       "98  J'ai eu un entretien avec la Commissaire europ...      0.000000  0.175000   \n",
       "99  Ce mardi, j'ai eu des échanges fructueux avec ...      0.066667  0.033333   \n",
       "\n",
       "   Analysis  \n",
       "0   Positif  \n",
       "1   Positif  \n",
       "2   Positif  \n",
       "3   Positif  \n",
       "4   Positif  \n",
       "..      ...  \n",
       "95   Neutre  \n",
       "96  Positif  \n",
       "97   Neutre  \n",
       "98  Positif  \n",
       "99  Positif  \n",
       "\n",
       "[100 rows x 4 columns]"
      ]
     },
     "execution_count": 17,
     "metadata": {},
     "output_type": "execute_result"
    }
   ],
   "source": [
    "# Créer une fonction pour calculer l'analyse négative, neutre et positive\n",
    "def getAnalysis(score):\n",
    "    if score < 0:\n",
    "        return 'Negatif'\n",
    "    elif score == 0:\n",
    "        return 'Neutre'\n",
    "    else:\n",
    "        return 'Positif'\n",
    "\n",
    "df['Analysis'] = df['Polarity'].apply(getAnalysis)\n",
    "\n",
    "# Afficher le dataframe\n",
    "df"
   ]
  },
  {
   "cell_type": "code",
   "execution_count": 18,
   "metadata": {},
   "outputs": [
    {
     "name": "stdout",
     "output_type": "stream",
     "text": [
      "1) Prière de la fin du Ramadan (Aïd el-Fitr) à la Grande Mosquée de la Riviera Golf. \n",
      "\n",
      "2) Ce lundi, j’ai pris part à la prière de l’Aïd el-Fitr. \n",
      "\n",
      "Je souhaite une excellente fête de Ramadan à tous nos frères et sœurs musulmans, dans la paix, la solidarité et le bonheur.\n",
      "\n",
      "Que Dieu bénisse notre beau Pays ! \n",
      "\n",
      "3) A l’occasion de la célébration de l’Aïd El Fitr, marquant la fin du jeûne du mois de Ramadan, je souhaite une très bonne fête à toute la communauté musulmane. \n",
      "\n",
      "4) Je félicite les travailleuses et les travailleurs du monde paysan, de la fonction publique et du secteur privé dont les efforts et l’abnégation au travail ont permis à notre pays de réaliser des performances économiques et sociales remarquables au cours des 10 dernières années ! \n",
      "\n",
      "5) Heureux de regagner Abidjan, ce vendredi, après un séjour en ArabieSaoudite. \n",
      "\n",
      "6) : Le taux de couverture électrique en Côte d’Ivoire est passé de 33% en 2011, à plus de 80% en 2020, grâce aux différents p…\n",
      "\n",
      "7) : Grâce au programme « École de la seconde chance », nos jeunes peuvent accéder à des formations qualifiantes, qui facilite…\n",
      "\n",
      "8) : Entre 2011 et 2019, nous avons recruté plus de 70 000 personnels enseignants et agents d’encadrement afin de renforcer l’…\n",
      "\n",
      "9) : En 2020, nous avons mis en œuvre la Couverture Maladie Universelle (CMU), au plan national, pour favoriser l’accès aux so…\n",
      "\n",
      "10) : Le bien-être des Ivoiriens est au cœur de notre action ! Le Programme Social du Gouvernement PSGouv, apporte des solutio…\n",
      "\n",
      "11) Je suis arrivé, ce lundi, en ArabieSaoudite pour une visite d'amitié et de travail. \n",
      "\n",
      "Je remercie les autorités saoudiennes pour leur accueil. \n",
      "\n",
      "12) Mes chaleureuses félicitations au Président  pour sa réélection à la Présidence de la République française.\n",
      "\n",
      "Je me réjouis de poursuivre avec lui le renforcement des liens d’amitié et de coopération entre la Côte d’Ivoire et la France.\n",
      "\n",
      "13) Lors du ConseildesMinistresCI ce jeudi, j’ai demandé aux membres du nouveau Gvt de se mettre au travail afin de  poursuivre les réformes pour dynamiser notre économie et accélérer la mise en œuvre de notre programme UneCotedIvoireSolidaire, pour le bien-être de nos populations. \n",
      "\n",
      "14) J’adresse mes vives et chaleureuses félicitations au VP Tiémoko Meyliet Koné qui vient de prêter serment devant le Conseil Constitutionnel. \n",
      "Au regard de ses qualités personnelles et professionnelles, je n’ai aucun doute qu’il saura relever les défis liés à cette nouvelle mission \n",
      "\n",
      "15) Devant le Parlement réuni en Congrès à Yamoussoukro, j’ai annoncé la nomination de Tiémoko Meyliet Koné au poste de Vice-Président de la République. J’ai également reconduit le Premier Ministre  à qui j’ai demandé de me proposer un Gouvernement resserré cette semaine \n",
      "\n",
      "16) Le VP Tiémoko Meyliet Koné a fait la preuve de ses qualités personnelles et professionnelles à toutes les hautes fonctions qu’il a occupées dans l’administration publique, dans le Gouvernement ivoirien et à l’extérieur de la Côte d’Ivoire. EtatdelaNation\n",
      "\n",
      "17) J’ai porté mon choix sur Tiémoko Meyliet Koné pour exercer les fonctions de Vice-président. C’est un technocrate hors pair, un brillant économiste, un homme compétent et travailleur. EtatdelaNation \n",
      "\n",
      "18) Joyeuses Pâques à toute la communauté chrétienne ! \n",
      "\n",
      "19) Avec mon frère , Pdt de la République togolaise, nous avons décidé de mutualiser nos efforts pour préserver la paix et la sécurité dans notre sous-région, notamment au Mali, en Guinée, et au Burkina Faso. Merci cher Faure pour cette visite fructueuse à Abidjan ! \n",
      "\n",
      "20) Ma déclaration et celle du Premier Ministre, , au ConseilDesMinistresCI de ce mercredi 13 avril 2022\n",
      "\n",
      " \n",
      "\n",
      "21) Suite à la démission de  et du Gvt, une équipe resserrée sera mise en place pour plus d’efficacité et tenir compte de la conjoncture économique mondiale. Il est impératif de réduire les dépenses de l’Etat en les réorientant vers la résilience sociale et sécuritaire. \n",
      "\n",
      "22) En cette journée mondiale de la santé, nous réaffirmons notre engagement à poursuivre nos actions pour un accès de tous nos concitoyens à des soins de qualité. \n",
      "\n",
      "23) Excellents échanges avec M. Patrice Motsepe, Président de _Online. C'est avec fierté que nous accueillerons en Côte d'Ivoire 🇨🇮 la 34e édition de la Coupe d’Afrique des Nations de Football. Nous sommes mobilisés pour faire de la CAN2023 un grand succès ! \n",
      "\n",
      "24) L’inclusion sociale des populations défavorisées et vulnérables et la lutte contre la pauvreté sont une  priorité. Nous avons décidé de pérenniser les acquis des filets sociaux avec la mise en place, sur la période 2022-2025, d’un nouveau programme \n",
      "\n",
      "25) Je me félicite tout particulièrement de l’adoption, le 30 mars 2022, de la Politique et de la Stratégie nationale pour une cacaoculture durable basée sur l’amélioration des revenus de nos producteurs, la lutte contre la déforestation et le travail des enfants. \n",
      "\n",
      "26) Ce jeudi, j'ai pris part à la levée de corps de Hadja Fatoumata Fofana, mère du Ministre Ally Coulibaly. \n",
      "\n",
      "Je réitère mes condoléances les plus émues au Ministre Ally Coulibaly et à sa famille.\n",
      "\n",
      "Que son âme repose en paix! \n",
      "\n",
      "27) Entretien avec _UN , Secrétaire Général Adjoint des Nations Unies aux Opérations de Maintien de la Paix, ce jeudi 31 mars 2022, au Palais de la Présidence de la République. \n",
      "\n",
      "28) Avec _UN, SG Adjoint des  aux Opérations de maintien de la paix, nous avons évoqué le défi sécuritaire régional ainsi que la contribution majeure de la CI 🇨🇮 aux différentes opérations de maintien de la Paix de l’ONU. \n",
      "\n",
      "29) Entretien avec , Commissaire européenne aux Partenariats Internationaux, ce mercredi 30 mars 2022 \n",
      "\n",
      "30) Je me suis entretenu aujourd’hui avec , Commissaire européenne aux partenariats internationaux. \n",
      "Nous avons abordé la situation en Ukraine ainsi que notre excellente collaboration pour répondre aux enjeux de l'inclusion des jeunes et du cacao durable 🇨🇮🇪🇺 \n",
      "\n",
      "31) Entretien avec , Président du Conseil Économique, Social et Environnemental de la République française, ce mardi 29 mars 2022, au Palais de la Présidence de la République \n",
      "\n",
      "32) Fructueux échanges avec , Pdt du Conseil Économique Social et Environnemental de 🇫🇷 , en visite de travail en CotedIvoire 🇨🇮\n",
      "La coopération entre ces deux Institutions sœurs et l’actualité internationale ont marqué nos discussions. \n",
      "\n",
      "33) C’est avec une grande tristesse que j’ai appris le décès de mon jeune frère, Soumeylou Boubeye Maiga, ancien Premier Ministre du Mali. \n",
      "\n",
      "En cette douloureuse circonstance, j’adresse mes condoléances les plus émues à sa famille et à ses proches.\n",
      "\n",
      "Que son âme repose en paix ! \n",
      "\n",
      "34) Mes chaleureuses félicitations à notre Miss, , 2e Dauphine au concours Miss Monde, pour avoir dignement représenté notre pays et magnifié  la culture ivoirienne sur la scène mondiale. \n",
      "\n",
      "Nous sommes fiers de toi ! \n",
      "\n",
      "35) …et pour la reconstruction de la Case des Enfants, le premier centre d'accueil pour enfants de la Fondation. \n",
      "\n",
      "36) Félicitations à  et à toute l’équipe de la Fondation Children of Africa pour le succès de ce 8e Dîner de Gala destiné à récolter des fonds pour la construction d’un Centre d’Accueil pour les femmes victimes de violences basées sur le genre… \n",
      "\n",
      "37) Cérémonie de Commémoration de l'an 1 du décès du Premier Ministre Hamed Bakayoko, ce jeudi 10 mars 2022, à la Grande Mosquée de la Riviera-Golf \n",
      "\n",
      "38) Moments de grande émotion, ce jeudi, à la Grande Mosquée de la Riviera-Golf, à l'occasion de la commémoration du 1er anniversaire du rappel à Dieu du Premier Ministre Hamed Bakayoko. \n",
      "\n",
      "Nous avons formulé des prières pour le repos de son âme. \n",
      "\n",
      "39) En ConseilDesMinistresCI aujourd’hui, nous avons pris des décisions importantes, notamment la subvention et le plafonnement des prix de certains produits de grande consommation pour préserver le pouvoir d’achat de nos populations.\n",
      "\n",
      "40) En cette Journée Internationale de la Femme, je rends hommage à toutes nos mères, nos sœurs et nos filles qui œuvrent au développement de notre beau pays ! JournéeInternationaleDeLaFemme \n",
      "\n",
      "41) Entretien avec Ahmed Bin Abdul Aziz KATTAN, Conseiller à la Cour Royale, Emissaire du Roi d’ArabieSaoudite \n",
      "\n",
      "42) Riches échanges ce jour avec , Émissaire du Roi Salmane Ben Abdelaziz AL SOUD, d'Arabie Saoudite. \n",
      "Nous souhaitons consolider les relations fortes qui unissent nos deux pays. \n",
      "\n",
      "43) Mes vœux de plein succès aux nouveaux Ambassadeurs de Djibouti, d’Iran, du Japon, du Pakistan et de la Namibie en CI ! \n",
      "La Côte d'Ivoire entend aller encore plus loin dans le renforcement et la diversification de notre excellente coopération avec leurs pays. \n",
      "\n",
      "44) Je félicite tous les membres des nouvelles instances et je les encourage à aller dans les régions, les départements, les villes et les villages pour remobiliser nos militants et prôner les idéaux de paix, de rassemblement et de dialogue du RHDP. \n",
      "\n",
      "45) : Décisions et annonces principales du ConseilDesMinistresCI de ce mercredi 23 février 2022 \n",
      "\n",
      "46) Face à la prolifération alarmante de travaux de remblayage non autorisés, nous avons pris des mesures fortes, notamment la suspension immédiate de tous les travaux de remblayage en cours jusqu’à la clarification foncière desdits remblais et leurs impacts environnementaux…\n",
      "\n",
      "47) L’aménagement et le bitumage du tronçon Yakassé Attobrou - Bettié de 42 km permettra de rapprocher les populations de ces deux localités et de booster les échanges économiques entre les Régions de la Mé… \n",
      "\n",
      "48) Suivez, en direct du Palais de la Présidence de la République, le compte-rendu du ConseilDesMinistresCI de ce mercredi 23 février 2022\n",
      "\n",
      " \n",
      "\n",
      "49) De retour à Abidjan après une mission à Accra, AddisAbeba et Bruxelles. \n",
      "De très bonnes perspectives pour notre pays ! \n",
      "\n",
      "50) Excellents échanges ce matin avec Werner Hoyer, Président de la , à l’image de notre coopération.\n",
      "\n",
      "La lutte contre le changement climatique et les questions de santé ont été au centre de nos discussions. \n",
      "\n",
      "51) Entretien avec  Premier Ministre de Belgique, ce jeudi 17 février 2022 à Bruxelles \n",
      "\n",
      "52) Très riche échange hier avec , Premier ministre de Belgique, qui nous a permis d'évoquer le renforcement des liens bilatéraux, les questions sécuritaires dans la sous-région et la fabrication de vaccins anti- COVID19 en Afrique. \n",
      "\n",
      "53) Très heureux de participer au SommetUEUA aux côtés de mes homologues africains et européens pour un partenariat renouvelé entre nos deux continents. La stratégie GlobalGateway permettra d’intensifier les investissements dans divers secteurs: infrastructures, santé, éducation… \n",
      "\n",
      "54) Je remercie , DG de  pour la fructueuse coopération  que nous entretenons avec le Fonds Monétaire International. Son appui au financement de projets en CôtedIvoire est un levier important pour le développement de notre pays. \n",
      "\n",
      "55) Déjeuner-débat avec  la Chambre Belgo Luxembourgeoise Afrique Caraïbes Pacifique _acp, ce mercredi 16 février 2022 à Bruxelles \n",
      "\n",
      "56) Merci aux membres de la Chambre de commerce belgo-luxembourgeoise _acp et à son Président M. Bultynk pour leur volonté de renforcer les liens avec la CI. Lors de notre déjeuner-débat, j’ai présenté les opportunités d’investissement dans les secteurs économiques prioritaires. \n",
      "\n",
      "57) Entretien avec Jutta URPILAINEN, Commissaire européenne aux Partenariats internationaux, ce mardi 15 février 2022 \n",
      "\n",
      "58) J'ai eu un entretien avec la Commissaire européenne aux Partenariats internationaux, . \n",
      "\n",
      "59) Ce mardi, j'ai eu des échanges fructueux avec Sa Majesté Philippe de Belgique, Roi des Belges. \n",
      "\n",
      "La CotedIvoire et la Belgique ont des liens historiques d’amitié et de coopération multiformes que nous continuerons à renforcer. \n",
      "\n"
     ]
    }
   ],
   "source": [
    "# Afficher tous les tweets positifs du PR\n",
    "l = 1\n",
    "sortedDF = df.sort_values(by=['Polarity'])\n",
    "for i in range(0, sortedDF.shape[0]):\n",
    "    if(sortedDF['Analysis'][i] == 'Positif'):\n",
    "        print(str(l) + ') ' + sortedDF['Tweets'][i])\n",
    "        print()\n",
    "        l = l+1"
   ]
  },
  {
   "cell_type": "code",
   "execution_count": 19,
   "metadata": {},
   "outputs": [
    {
     "name": "stdout",
     "output_type": "stream",
     "text": [
      "1) Départ pour l’Arabie Saoudite. \n",
      "\n",
      "2) Ma déclaration à l’entame du ConseilDesMinistresCI de ce jeudi 21 avril 2022\n",
      "\n",
      " \n",
      "\n",
      "3) : Communiqué de la Présidence de la République relatif à la signature du décret portant nomination des membres du Gouvernem…\n",
      "\n",
      "4) : Communiqué de la Présidence de la République \n",
      "\n",
      "5) \n",
      "\n",
      "6) \n",
      "\n",
      "7) Message sur l’état de la Nation devant le Parlement réuni en congrès, ce mardi 19 avril 2022, à la Fondation Félix Houphouët-Boigny pour la recherche de la paix, à Yamoussoukro. EtatdelaNation \n",
      "\n",
      "8) 𝐄𝐧𝐭𝐫𝐞𝐭𝐢𝐞𝐧 𝐚𝐯𝐞𝐜 , 𝐏𝐫é𝐬𝐢𝐝𝐞𝐧𝐭 𝐝𝐞 𝐥𝐚 𝐑é𝐩𝐮𝐛𝐥𝐢𝐪𝐮𝐞 𝐭𝐨𝐠𝐨𝐥𝐚𝐢𝐬𝐞, 𝐞𝐧 𝐯𝐢𝐬𝐢𝐭𝐞 𝐝𝐞 𝐭𝐫𝐚𝐯𝐚𝐢𝐥 𝐞𝐭 𝐝’𝐚𝐦𝐢𝐭𝐢é 𝐞𝐧 𝐂ô𝐭𝐞 𝐝’𝐈𝐯𝐨𝐢𝐫𝐞, 𝐜𝐞 𝐣𝐞𝐮𝐝𝐢 𝟏𝟒 𝐚𝐯𝐫𝐢𝐥 𝟐𝟎𝟐𝟐 \n",
      "\n",
      "9) Entretien avec Patrice Motsepe, Président de la Confédération Africaine de Football CAF, ce lundi 04 avril 2022 \n",
      "\n",
      "10) Garantir l’accès des populations en eau potable, une priorité pour notre pays ! \n",
      "\n",
      "11) La lutte contre la cherté de la vie est au cœur de notre action. ConseilDesMinistresCI \n",
      "\n",
      "12) …..le Sommet UEUA où j’ai insisté sur la nécessité de prendre en compte les conditions de vie de nos planteurs dans la production cacaoyère durable ;\n",
      "\n",
      "13) Plusieurs rencontres majeures ont ponctué ce mois de février 2022, notamment une visite de travail à Bruxelles à l’invitation des autorités belges ; \n",
      "\n",
      "14) Cérémonie de présentation des Lettres de créance des Ambassadeurs désignés de Djibouti, d'Iran, du Japon, du Pakistan et de Namibie en Côte d'Ivoire \n",
      "\n",
      "15) : COMMUNIQUE DE LA PRESIDENCE DE LA RÉPUBLIQUE \n",
      "\n",
      "16) Réunion du  Conseil Politique du RHDP, ce lundi 28 février 2022 \n",
      "\n",
      "17) La réorganisation  du Directoire du RHDP et la création  d’un Secrétariat Exécutif permettront de consolider nos acquis et d’améliorer nos performances. \n",
      "\n",
      "18) : Communiqué du Conseil National de Sécurité de ce jeudi 24 février 2022.  \n",
      "ConseilNationalDeSécurité \n",
      "\n",
      "\n",
      "19) Réunion du Conseil National de Sécurité, ce jeudi 24 février 2022\n",
      "ConseilNationalDeSécurité \n",
      "\n",
      "20) Lors de la réunion du ConseilNationalDeSécurité, j’ai insisté sur la nécessité de poursuivre les actions de développement local ainsi que les initiatives génératrices de revenus initiée dans la région Nord de notre pays afin de lutter contre l’extrémisme dans cette zone. \n",
      "\n",
      "21) : 𝐂𝐨𝐦𝐦𝐮𝐧𝐢𝐪𝐮𝐞́ 𝐝𝐮 𝐂𝐨𝐧𝐬𝐞𝐢𝐥 𝐍𝐚𝐭𝐢𝐨𝐧𝐚𝐥 𝐝𝐞 𝐒𝐞́𝐜𝐮𝐫𝐢𝐭𝐞́ \n",
      "\n",
      "22) …la saisie des équipements de dragage et la sécurisation du domaine fluvio-lagunaire. ConseilDesMinistresCI\n",
      "\n",
      "23) Les problèmes environnementaux constituent une préoccupation majeure. ConseilDesMinistresCI \n",
      "\n",
      "24) …et préserver la confiance des populations en notre système de santé publique. ConseilDesMinistresCI\n",
      "\n",
      "25) Retour à Abidjan, ce mardi 22 février 2022, après une mission à Accra (Ghana), Addis-Abeba (Ethiopie) et Bruxelles (Belgique). \n",
      "\n",
      "26) Lors de nos échanges avec la Pdte du Parlement européen _President sur la future législation de l’UE sur la cacaoculture le PR  et moi avons souhaité que la production cacaoyère durable tienne compte de l’amélioration des conditions de vie de nos producteurs. \n",
      "\n",
      "27) Entretien avec Werner Hoyer, Président de la Banque Européenne d'Investissement , ce vendredi 18 février 2022 à Bruxelles \n",
      "\n",
      "28) Je me réjouis de ces échanges constructifs pour le renforcement de la coopération entre nos deux pays ! \n",
      "\n",
      "29) Thank you  for our constructive discussion on many subjects of common interest, namely, cooperation and COVID19 vaccine manufacturing. I look forward to welcoming you to beautiful CotedIvoire  AfricaEU \n",
      "\n",
      "30) Nos échanges ont porté sur le renforcement de la coopération entre notre pays et l'UnionEuropeenne, ainsi que sur les questions liées à la fabrication de vaccins contre la COVID19 en Afrique, au cacaoyer durable, à la paix et à la sécurité. \n",
      "\n"
     ]
    }
   ],
   "source": [
    "# Afficher tous les tweets neutres du PR\n",
    "l = 1\n",
    "sortedDF = df.sort_values(by=['Polarity'])\n",
    "for i in range(0, sortedDF.shape[0]):\n",
    "    if(sortedDF['Analysis'][i] == 'Neutre'):\n",
    "        print(str(l) + ') ' + sortedDF['Tweets'][i])\n",
    "        print()\n",
    "        l = l+1"
   ]
  },
  {
   "cell_type": "code",
   "execution_count": 20,
   "metadata": {},
   "outputs": [
    {
     "name": "stdout",
     "output_type": "stream",
     "text": [
      "1) : Entre 2015 et 2020, l’accès à l’eau potable est passé de 65% à 82% sur l’étendue du territoire national. Le PSGouv permet…\n",
      "\n",
      "2) Cérémonie Solennelle de Prestation de Serment du Vice-Président de la République, ce mercredi 20 avril 2022 PrestationdeSermentVP \n",
      "\n",
      "3) Suivez, en direct du Palais de la Présidence de la République, la Cérémonie Solennelle de Prestation de Serment du Vice-président, ce mercredi 20 avril 2022\n",
      "\n",
      "\n",
      "\n",
      "4) Je me félicite de l’adoption, le 30 mars dernier, en ConseilDesMinistresCI, de la Politique et de la Stratégie nationale pour une cacaoculture durable basée sur l’amélioration des revenus de nos producteurs, la lutte contre la déforestation et le travail des enfants.\n",
      "\n",
      "5) Le mois de mars a été marqué par le renforcement de nos relations diplomatiques, la diversification de notre économie ainsi que la prise de mesures pour préserver le pouvoir d’achat de nos concitoyens. \n",
      "\n",
      "6) Ce vendredi, j'ai présenté mes condoléances au Ministre Ally Coulibaly et à sa famille suite au rappel à Dieu de leur mère, Hadja Fatoumata Fofana. \n",
      "\n",
      "Je partage leur peine et je leur réitère ma solidarité en cette douloureuse circonstance.\n",
      "\n",
      "Que son âme repose en paix ! \n",
      "\n",
      "7) ….le 35e Sommet ordinaire de l’Union Africaine à AddisAbeba et le Sommet extraordinaire de la CEDEAO sur la situation politique au Mali, en Guinée et au Burkina Faso, en vue d’un retour à l’ordre constitutionnel dans ces pays frères.\n",
      "\n",
      "8) … et de l’Indénié-Djuablin, et les autres régions du pays et le Ghana. ConseilDesMinistresCI\n",
      "\n",
      "9) Avec la création de l’Agence Africaine du Médicament, nous renforcerons la régulation des produits médicaux afin d’éradiquer la prolifération de produits pharmaceutiques de mauvaise qualité et falsifiés, \n",
      "\n",
      "10) Dans le cadre du SommetUEUA, j’ai participé à une table ronde sur l’agriculture et le développement durable.\n",
      "Aux côtés de mes homologues, j’ai soutenu l’adoption de systèmes de production durables et résilients: rotation des cultures, développement de l’agriculture biologique... \n",
      "\n",
      "11) Cérémonie d’ouverture du 6e Sommet ordinaire Union Africaine-Union Européenne à Bruxelles (Belgique), ce jeudi 17 février 2022. SommetUEUA \n",
      "\n"
     ]
    }
   ],
   "source": [
    "# Afficher tous les tweets negatifs du PR\n",
    "l = 1\n",
    "sortedDF = df.sort_values(by=['Polarity'], ascending='False')\n",
    "for i in range(0, sortedDF.shape[0]):\n",
    "    if(sortedDF['Analysis'][i] == 'Negatif'):\n",
    "        print(str(l) + ') ' + sortedDF['Tweets'][i])\n",
    "        print()\n",
    "        l = l+1"
   ]
  },
  {
   "cell_type": "code",
   "execution_count": 21,
   "metadata": {},
   "outputs": [
    {
     "data": {
      "image/png": "[encoded data removed]",
      "text/plain": [
       "<Figure size 576x432 with 1 Axes>"
      ]
     },
     "metadata": {},
     "output_type": "display_data"
    }
   ],
   "source": [
    "# Tracer la polarité et la subjectivité\n",
    "plt.figure(figsize=(8,6))\n",
    "for i in range(0, df.shape[0]):\n",
    "    plt.scatter(df['Polarity'][i], df['Subjectivity'][i], color = 'Blue')\n",
    "    \n",
    "plt.title('Analyse des Sentiments du PR ADO')\n",
    "plt.xlabel('Polarity')\n",
    "plt.ylabel('Subjectivity')\n",
    "plt.show()"
   ]
  },
  {
   "cell_type": "code",
   "execution_count": 22,
   "metadata": {},
   "outputs": [
    {
     "data": {
      "text/plain": [
       "59.0"
      ]
     },
     "execution_count": 22,
     "metadata": {},
     "output_type": "execute_result"
    }
   ],
   "source": [
    "# Obtenir le pourcentage de tweets positifs\n",
    "tweets_positifs = df[df.Analysis == 'Positif']\n",
    "tweets_positifs = tweets_positifs['Tweets']\n",
    "\n",
    "round( (tweets_positifs.shape[0] / df.shape[0]) * 100, 1)"
   ]
  },
  {
   "cell_type": "code",
   "execution_count": 23,
   "metadata": {},
   "outputs": [
    {
     "data": {
      "text/plain": [
       "30.0"
      ]
     },
     "execution_count": 23,
     "metadata": {},
     "output_type": "execute_result"
    }
   ],
   "source": [
    "# Obtenir le pourcentage de tweets neutres \n",
    "tweets_neutres = df[df.Analysis == 'Neutre']\n",
    "tweets_neutres = tweets_neutres['Tweets']\n",
    "\n",
    "round( (tweets_neutres.shape[0] / df.shape[0]) * 100, 1)"
   ]
  },
  {
   "cell_type": "code",
   "execution_count": 24,
   "metadata": {},
   "outputs": [
    {
     "data": {
      "text/plain": [
       "11.0"
      ]
     },
     "execution_count": 24,
     "metadata": {},
     "output_type": "execute_result"
    }
   ],
   "source": [
    "# Obtenir le pourcentage de tweets négatifs\n",
    "tweets_negatifs = df[df.Analysis == 'Negatif']\n",
    "tweets_negatifs = tweets_negatifs['Tweets']\n",
    "\n",
    "round( (tweets_negatifs.shape[0] / df.shape[0]) * 100, 1)"
   ]
  },
  {
   "cell_type": "code",
   "execution_count": 25,
   "metadata": {},
   "outputs": [
    {
     "data": {
      "image/png": "[encoded data removed]",
      "text/plain": [
       "<Figure size 432x288 with 1 Axes>"
      ]
     },
     "metadata": {},
     "output_type": "display_data"
    }
   ],
   "source": [
    "# Afficher les fréquences \n",
    "\n",
    "df['Analysis'].value_counts()\n",
    "\n",
    "# Tracer et visualiser les fréquences de tweets par sentiment\n",
    "plt.title('Analyse des Sentiments du PR ADO')\n",
    "plt.xlabel('Sentiment')\n",
    "plt.ylabel('Fréquence')\n",
    "df['Analysis'].value_counts().plot(kind='bar')\n",
    "plt.show()"
   ]
  },
  {
   "cell_type": "code",
   "execution_count": null,
   "metadata": {},
   "outputs": [],
   "source": []
  },
  {
   "cell_type": "code",
   "execution_count": null,
   "metadata": {},
   "outputs": [],
   "source": []
  }
 ],
 "metadata": {
  "kernelspec": {
   "display_name": "Python 3",
   "language": "python",
   "name": "python3"
  },
  "language_info": {
   "codemirror_mode": {
    "name": "ipython",
    "version": 3
   },
   "file_extension": ".py",
   "mimetype": "text/x-python",
   "name": "python",
   "nbconvert_exporter": "python",
   "pygments_lexer": "ipython3",
   "version": "3.8.5"
  }
 },
 "nbformat": 4,
 "nbformat_minor": 4
}
